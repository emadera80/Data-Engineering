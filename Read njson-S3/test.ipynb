{
 "metadata": {
  "language_info": {
   "codemirror_mode": {
    "name": "ipython",
    "version": 3
   },
   "file_extension": ".py",
   "mimetype": "text/x-python",
   "name": "python",
   "nbconvert_exporter": "python",
   "pygments_lexer": "ipython3",
   "version": "3.8.5-final"
  },
  "orig_nbformat": 2,
  "kernelspec": {
   "name": "python3",
   "display_name": "Python 3",
   "language": "python"
  }
 },
 "nbformat": 4,
 "nbformat_minor": 2,
 "cells": [
  {
   "cell_type": "code",
   "execution_count": 1,
   "metadata": {},
   "outputs": [
    {
     "output_type": "stream",
     "name": "stdout",
     "text": [
      "Patient Name: Mohamed943 Treutel973\n           RESOURCE_TYPE  COUNT\n10           Observation    189\n4       DiagnosticReport     32\n2                  Claim     31\n8           Immunization     30\n5      DocumentReference     29\n6              Encounter     29\n7   ExplanationOfBenefit     29\n11             Procedure     15\n3              Condition     12\n0               CarePlan      3\n1               CareTeam      3\n9      MedicationRequest      2\n12            Provenance      1\n"
     ]
    }
   ],
   "source": [
    "%run resource.py --lastname Treutel973 --firstname Mohamed943"
   ]
  },
  {
   "cell_type": "code",
   "execution_count": 2,
   "metadata": {},
   "outputs": [
    {
     "output_type": "stream",
     "name": "stdout",
     "text": [
      "Patient Name: Cleo27 Bode78\n           RESOURCE_TYPE  COUNT\n9            Observation     93\n4       DiagnosticReport     12\n8           Immunization     11\n2                  Claim      8\n3              Condition      8\n5      DocumentReference      8\n6              Encounter      8\n7   ExplanationOfBenefit      8\n10             Procedure      5\n0               CarePlan      2\n1               CareTeam      2\n11            Provenance      1\n"
     ]
    }
   ],
   "source": [
    "%run resource.py --patient_id d13874ec-22ea-46ed-a55c-1fd75ef56a58\n"
   ]
  },
  {
   "cell_type": "code",
   "execution_count": 2,
   "metadata": {},
   "outputs": [
    {
     "output_type": "execute_result",
     "data": {
      "text/plain": [
       "3"
      ]
     },
     "metadata": {},
     "execution_count": 2
    }
   ],
   "source": [
    "a = [1,2,4,5,6,7]\n",
    "\n",
    "a.index(5)"
   ]
  },
  {
   "cell_type": "code",
   "execution_count": 4,
   "metadata": {},
   "outputs": [
    {
     "output_type": "execute_result",
     "data": {
      "text/plain": [
       "[3]"
      ]
     },
     "metadata": {},
     "execution_count": 4
    }
   ],
   "source": [
    "[i for i,x in enumerate(a) if x==5]"
   ]
  },
  {
   "cell_type": "code",
   "execution_count": null,
   "metadata": {},
   "outputs": [],
   "source": [
    "enumerate(a)"
   ]
  }
 ]
}
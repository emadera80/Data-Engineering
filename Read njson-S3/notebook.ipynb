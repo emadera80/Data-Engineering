{
 "metadata": {
  "language_info": {
   "codemirror_mode": {
    "name": "ipython",
    "version": 3
   },
   "file_extension": ".py",
   "mimetype": "text/x-python",
   "name": "python",
   "nbconvert_exporter": "python",
   "pygments_lexer": "ipython3",
   "version": "3.8.5-final"
  },
  "orig_nbformat": 2,
  "kernelspec": {
   "name": "python3",
   "display_name": "Python 3",
   "language": "python"
  }
 },
 "nbformat": 4,
 "nbformat_minor": 2,
 "cells": [
  {
   "source": [
    "### Load Packages"
   ],
   "cell_type": "markdown",
   "metadata": {}
  },
  {
   "cell_type": "code",
   "execution_count": 1,
   "metadata": {},
   "outputs": [],
   "source": [
    "import boto3\n",
    "import pandas as pd \n",
    "import json \n",
    "import configparser \n",
    "import ndjson\n",
    "import re "
   ]
  },
  {
   "source": [
    "### Configuration\n",
    "\n",
    "For security i have made a configuration file that contains my AWS access key and secret key"
   ],
   "cell_type": "markdown",
   "metadata": {}
  },
  {
   "cell_type": "code",
   "execution_count": 2,
   "metadata": {},
   "outputs": [],
   "source": [
    "config=configparser.ConfigParser() \n",
    "config.read_file(open('config.cfg'))\n",
    "\n",
    "KEY = config.get('AWS', 'KEY')\n",
    "SECRET = config.get('AWS', 'SECRET')"
   ]
  },
  {
   "source": [
    "### Connect to the S3 Service"
   ],
   "cell_type": "markdown",
   "metadata": {}
  },
  {
   "cell_type": "code",
   "execution_count": 3,
   "metadata": {},
   "outputs": [],
   "source": [
    "s3 = boto3.resource('s3', \n",
    "    region_name = 'us-west-2', \n",
    "    aws_access_key_id = KEY, \n",
    "    aws_secret_access_key = SECRET\n",
    ")"
   ]
  },
  {
   "source": [
    "### Review the Contents of Bucket\n",
    "\n",
    "After connecting the service and accessing the bucket lets review the contents of the bucket.  "
   ],
   "cell_type": "markdown",
   "metadata": {}
  },
  {
   "cell_type": "code",
   "execution_count": 4,
   "metadata": {},
   "outputs": [
    {
     "output_type": "stream",
     "name": "stdout",
     "text": [
      "s3.ObjectSummary(bucket_name='1up-coding-challenge-patients', key='AllergyIntolerance.ndjson')\ns3.ObjectSummary(bucket_name='1up-coding-challenge-patients', key='CarePlan.ndjson')\ns3.ObjectSummary(bucket_name='1up-coding-challenge-patients', key='CareTeam.ndjson')\ns3.ObjectSummary(bucket_name='1up-coding-challenge-patients', key='Claim.ndjson')\ns3.ObjectSummary(bucket_name='1up-coding-challenge-patients', key='Condition.ndjson')\ns3.ObjectSummary(bucket_name='1up-coding-challenge-patients', key='Device.ndjson')\ns3.ObjectSummary(bucket_name='1up-coding-challenge-patients', key='DiagnosticReport.ndjson')\ns3.ObjectSummary(bucket_name='1up-coding-challenge-patients', key='DocumentReference.ndjson')\ns3.ObjectSummary(bucket_name='1up-coding-challenge-patients', key='Encounter.ndjson')\ns3.ObjectSummary(bucket_name='1up-coding-challenge-patients', key='ExplanationOfBenefit.ndjson')\ns3.ObjectSummary(bucket_name='1up-coding-challenge-patients', key='Group.ndjson')\ns3.ObjectSummary(bucket_name='1up-coding-challenge-patients', key='ImagingStudy.ndjson')\ns3.ObjectSummary(bucket_name='1up-coding-challenge-patients', key='Immunization.ndjson')\ns3.ObjectSummary(bucket_name='1up-coding-challenge-patients', key='Location.ndjson')\ns3.ObjectSummary(bucket_name='1up-coding-challenge-patients', key='Medication.ndjson')\ns3.ObjectSummary(bucket_name='1up-coding-challenge-patients', key='MedicationAdministration.ndjson')\ns3.ObjectSummary(bucket_name='1up-coding-challenge-patients', key='MedicationRequest.ndjson')\ns3.ObjectSummary(bucket_name='1up-coding-challenge-patients', key='Observation.ndjson')\ns3.ObjectSummary(bucket_name='1up-coding-challenge-patients', key='Organization.ndjson')\ns3.ObjectSummary(bucket_name='1up-coding-challenge-patients', key='Patient.ndjson')\ns3.ObjectSummary(bucket_name='1up-coding-challenge-patients', key='Practitioner.ndjson')\ns3.ObjectSummary(bucket_name='1up-coding-challenge-patients', key='PractitionerRole.ndjson')\ns3.ObjectSummary(bucket_name='1up-coding-challenge-patients', key='Procedure.ndjson')\ns3.ObjectSummary(bucket_name='1up-coding-challenge-patients', key='Provenance.ndjson')\ns3.ObjectSummary(bucket_name='1up-coding-challenge-patients', key='SupplyDelivery.ndjson')\n"
     ]
    }
   ],
   "source": [
    "bucket = s3.Bucket('1up-coding-challenge-patients')\n",
    "\n",
    "for obj in bucket.objects.all():\n",
    "    print(obj)"
   ]
  },
  {
   "cell_type": "code",
   "execution_count": 112,
   "metadata": {},
   "outputs": [],
   "source": [
    "pat = s3.Object('1up-coding-challenge-patients', 'ExplanationOfBenefit.ndjson')\n",
    "pat1 = pat.get()['Body'].read()\n",
    "pat2 = ndjson.loads(pat1.decode('utf-8'))"
   ]
  },
  {
   "cell_type": "code",
   "execution_count": 113,
   "metadata": {},
   "outputs": [],
   "source": [
    "pat1 = pat.get()['Body'].read()"
   ]
  },
  {
   "cell_type": "code",
   "execution_count": 114,
   "metadata": {},
   "outputs": [],
   "source": [
    "pat2 = ndjson.loads(pat1.decode('utf-8'))"
   ]
  },
  {
   "cell_type": "code",
   "execution_count": 162,
   "metadata": {},
   "outputs": [
    {
     "output_type": "stream",
     "name": "stdout",
     "text": [
      "424441002\n"
     ]
    }
   ],
   "source": [
    "for i in pat2[1]['item'][0]['productOrService']['coding'][0]: \n",
    "    if i == 'code': \n",
    "        print(pat2[1]['item'][0]['productOrService']['coding'][0][i])"
   ]
  },
  {
   "cell_type": "code",
   "execution_count": 205,
   "metadata": {
    "tags": []
   },
   "outputs": [],
   "source": [
    "from io import BytesIO\n",
    "import json\n",
    "\n",
    "obj = s3.Object('1up-coding-challenge-patients', 'Patient.ndjson')\n",
    "with BytesIO(obj.get()['Body'].read()) as bio: \n",
    "    data = bio.readlines()\n",
    "    data = [json.loads(line) for line in data]\n"
   ]
  },
  {
   "cell_type": "code",
   "execution_count": 453,
   "metadata": {},
   "outputs": [],
   "source": [
    "df = pd.json_normalize(data, max_level=2)"
   ]
  },
  {
   "cell_type": "code",
   "execution_count": 450,
   "metadata": {},
   "outputs": [],
   "source": [
    "for r in df.telecom: \n",
    "    df['phonenumber'] = r['value']\n",
    "    df['type'] = r['system']"
   ]
  },
  {
   "cell_type": "code",
   "execution_count": 678,
   "metadata": {},
   "outputs": [
    {
     "output_type": "execute_result",
     "data": {
      "text/plain": [
       "[{'url': 'longitude', 'valueDecimal': -71.24234884403893},\n",
       " {'url': 'longitude', 'valueDecimal': -70.66095565333276},\n",
       " {'url': 'longitude', 'valueDecimal': -70.89077716097712},\n",
       " {'url': 'longitude', 'valueDecimal': -72.13463118195973},\n",
       " {'url': 'longitude', 'valueDecimal': -71.20155820047266},\n",
       " {'url': 'longitude', 'valueDecimal': -71.06409980842905},\n",
       " {'url': 'longitude', 'valueDecimal': -70.9222678474517},\n",
       " {'url': 'longitude', 'valueDecimal': -72.72526515453637},\n",
       " {'url': 'longitude', 'valueDecimal': -71.01882431610733},\n",
       " {'url': 'longitude', 'valueDecimal': -71.13420161568726},\n",
       " {'url': 'longitude', 'valueDecimal': -70.88317245487545},\n",
       " {'url': 'longitude', 'valueDecimal': -71.08590772127563},\n",
       " {'url': 'longitude', 'valueDecimal': -71.19501270210624},\n",
       " {'url': 'longitude', 'valueDecimal': -70.31588552264081},\n",
       " {'url': 'longitude', 'valueDecimal': -71.8853768531197},\n",
       " {'url': 'longitude', 'valueDecimal': -70.93266938466046},\n",
       " {'url': 'longitude', 'valueDecimal': -71.08427259784995},\n",
       " {'url': 'longitude', 'valueDecimal': -70.22325690869948},\n",
       " {'url': 'longitude', 'valueDecimal': -70.8971769209448},\n",
       " {'url': 'longitude', 'valueDecimal': -72.14630376229672},\n",
       " {'url': 'longitude', 'valueDecimal': -71.13503011462043},\n",
       " {'url': 'longitude', 'valueDecimal': -71.49241452245968},\n",
       " {'url': 'longitude', 'valueDecimal': -72.18488118216516},\n",
       " {'url': 'longitude', 'valueDecimal': -71.0143259766044},\n",
       " {'url': 'longitude', 'valueDecimal': -71.10723235564723},\n",
       " {'url': 'longitude', 'valueDecimal': -70.93009658393547},\n",
       " {'url': 'longitude', 'valueDecimal': -72.07390848941816},\n",
       " {'url': 'longitude', 'valueDecimal': -71.09590060976146}]"
      ]
     },
     "metadata": {},
     "execution_count": 678
    }
   ],
   "source": [
    "[r['address'][0]['extension'][0]['extension'][1] for r in data]"
   ]
  },
  {
   "cell_type": "code",
   "execution_count": 623,
   "metadata": {
    "tags": []
   },
   "outputs": [
    {
     "output_type": "stream",
     "name": "stdout",
     "text": [
      "resourceType\nid\nmeta\ntext\nextension\nidentifier\nname\ntelecom\ngender\nbirthDate\naddress\nmaritalStatus\nmultipleBirthBoolean\ncommunication\n"
     ]
    }
   ],
   "source": [
    "\n",
    "\n",
    "for i in data[0]: \n",
    "    print(i)\n",
    "   \n"
   ]
  },
  {
   "cell_type": "code",
   "execution_count": 654,
   "metadata": {},
   "outputs": [],
   "source": [
    "d = {} \n",
    "d['id'] = [r['id'] for r in data]\n",
    "d['resource'] = [r['resourceType'] for r in data]\n",
    "d['language'] = [r['communication'][0]['language']['text'] for r in data]\n",
    "d['lastname'] =  [r['name'][0]['family'] for r in data]\n",
    "d['firstname'] =  [r['name'][0]['given'][0] for r in data]\n",
    "d['address1'] = [r['address'][0]['line'][0] for r in data]\n",
    "d['city'] = [r['address'][0]['city'] for r in data]\n",
    "d['state'] = [r['address'][0]['state'] for r in data]\n"
   ]
  },
  {
   "cell_type": "code",
   "execution_count": 655,
   "metadata": {},
   "outputs": [
    {
     "output_type": "execute_result",
     "data": {
      "text/plain": [
       "{'id': ['c4768f2a-f932-4ab6-a4a5-6e8ae0f9da8d',\n",
       "  'ebf9231d-6a1f-432a-90c2-bc1b340ae047',\n",
       "  'db89be6a-a4c5-4f3c-b62c-a5e1b6abe983',\n",
       "  'ae7f3b20-ac42-423b-9386-884d14a5cfc5',\n",
       "  '421c3eaf-f95c-47af-b8cd-f6cbcb192fad',\n",
       "  'd8e414ef-9d1f-432a-88e6-b1bcdadeb711',\n",
       "  'b716e854-c172-4384-bc92-46a51f2dd91b',\n",
       "  '29b1e7a6-3664-4667-b9ae-2c166aa48b28',\n",
       "  '2116b133-bab9-483e-8afb-e90d6d875962',\n",
       "  'd13874ec-22ea-46ed-a55c-1fd75ef56a58',\n",
       "  '6bc1f207-dac7-4167-9672-60bc3659e3e5',\n",
       "  'd9365a63-86fb-4914-b3ec-8b43716b5767',\n",
       "  '1392b4ce-78ba-4bda-a8ff-d5fe7e04f558',\n",
       "  '34ff2141-1565-4564-a801-18f019fa10ab',\n",
       "  '70c8e3d4-e3ac-4db0-a8eb-74df565283a4',\n",
       "  '75ba3372-0b0c-4fa4-b73c-ee8dce1d6872',\n",
       "  'c223cc3e-7ac7-4a7b-b3a1-04444e6303bf',\n",
       "  '37f771b2-ab08-4026-8bf8-c6bad0e77f92',\n",
       "  'd99eef72-f99a-4494-9706-818b4e8c0919',\n",
       "  'a542b75f-2c04-4688-92d4-02175abb80b6',\n",
       "  '31c49a7a-1f98-455f-ad2a-5d4ccc5f3193',\n",
       "  'b6661250-29bc-4707-b491-cb6c50aba943',\n",
       "  '066206be-6741-41f5-b4c6-3b83c443d158',\n",
       "  'a8bbd3cf-0693-4537-bb14-b3f90edb10cb',\n",
       "  'f2d5118c-a86e-4359-b6c6-64d617b4d88a',\n",
       "  '15c06472-9ac8-488e-a2ef-66252dd71c8c',\n",
       "  '9a085283-9271-4417-a0b9-f04b4664b2ee',\n",
       "  'fc842888-b290-4722-b471-93449a58b773'],\n",
       " 'resource': ['Patient',\n",
       "  'Patient',\n",
       "  'Patient',\n",
       "  'Patient',\n",
       "  'Patient',\n",
       "  'Patient',\n",
       "  'Patient',\n",
       "  'Patient',\n",
       "  'Patient',\n",
       "  'Patient',\n",
       "  'Patient',\n",
       "  'Patient',\n",
       "  'Patient',\n",
       "  'Patient',\n",
       "  'Patient',\n",
       "  'Patient',\n",
       "  'Patient',\n",
       "  'Patient',\n",
       "  'Patient',\n",
       "  'Patient',\n",
       "  'Patient',\n",
       "  'Patient',\n",
       "  'Patient',\n",
       "  'Patient',\n",
       "  'Patient',\n",
       "  'Patient',\n",
       "  'Patient',\n",
       "  'Patient'],\n",
       " 'language': ['English',\n",
       "  'Russian (Russia)',\n",
       "  'English',\n",
       "  'English',\n",
       "  'English',\n",
       "  'English',\n",
       "  'English',\n",
       "  'English',\n",
       "  'English',\n",
       "  'English',\n",
       "  'English',\n",
       "  'English',\n",
       "  'English',\n",
       "  'English',\n",
       "  'English',\n",
       "  'English',\n",
       "  'English',\n",
       "  'English',\n",
       "  'English',\n",
       "  'English',\n",
       "  'English',\n",
       "  'English',\n",
       "  'English',\n",
       "  'English',\n",
       "  'English',\n",
       "  'English',\n",
       "  'English',\n",
       "  'English'],\n",
       " 'lastname': ['Abernathy524',\n",
       "  'Treutel973',\n",
       "  'Gislason620',\n",
       "  'Maggio310',\n",
       "  'Greenholt190',\n",
       "  'Yost751',\n",
       "  'Pfannerstill264',\n",
       "  'Glover433',\n",
       "  'Johnson679',\n",
       "  'Bode78',\n",
       "  'Denesik803',\n",
       "  'Feil794',\n",
       "  'Kreiger457',\n",
       "  'Lynch190',\n",
       "  'Nienow652',\n",
       "  'Rogahn59',\n",
       "  'Dooley940',\n",
       "  'Braun514',\n",
       "  'Connelly992',\n",
       "  'Schamberger479',\n",
       "  'Dickens475',\n",
       "  'Franecki195',\n",
       "  'Corkery305',\n",
       "  'Rice937',\n",
       "  'Nader710',\n",
       "  'Hegmann834',\n",
       "  'Wuckert783',\n",
       "  'Pollich983'],\n",
       " 'firstname': ['Treena759',\n",
       "  'Mohamed943',\n",
       "  'Sadye922',\n",
       "  'Dot905',\n",
       "  'Wava789',\n",
       "  'Rosalia943',\n",
       "  'Clemente531',\n",
       "  'Alan320',\n",
       "  'Judson999',\n",
       "  'Cleo27',\n",
       "  'Bart73',\n",
       "  'Hosea56',\n",
       "  'Otto672',\n",
       "  'Rosamond509',\n",
       "  'Erasmo545',\n",
       "  'Alexis664',\n",
       "  'Silas208',\n",
       "  'Roy364',\n",
       "  'Billi682',\n",
       "  'Alane21',\n",
       "  'Jeni110',\n",
       "  'Damian46',\n",
       "  'Gerard367',\n",
       "  'Elbert916',\n",
       "  'Celesta195',\n",
       "  'Napoleon578',\n",
       "  'Yetta429',\n",
       "  'Johnny786'],\n",
       " 'address1': ['415 Davis Neck Unit 94',\n",
       "  '422 Auer Manor',\n",
       "  '307 Windler Common',\n",
       "  '105 Purdy Lodge',\n",
       "  '220 Windler Camp',\n",
       "  '280 Hilll Crossroad',\n",
       "  '1030 Bruen Mall Suite 53',\n",
       "  '981 Glover Promenade Suite 36',\n",
       "  '571 Stiedemann Esplanade',\n",
       "  '1043 Hoppe Loaf',\n",
       "  '163 Littel Estate',\n",
       "  '972 Blick Byway',\n",
       "  '484 Swaniawski Road Unit 84',\n",
       "  '815 Ondricka Haven Unit 85',\n",
       "  '920 Koelpin Burg',\n",
       "  '434 Ziemann Lane',\n",
       "  '289 Kassulke Forge',\n",
       "  '563 Goodwin Road Apt 75',\n",
       "  '864 Mayert Rue Unit 23',\n",
       "  '519 Emmerich Parade',\n",
       "  '665 Boehm Forge Unit 7',\n",
       "  '290 Gaylord Boulevard Suite 86',\n",
       "  '767 Stamm Highlands Suite 83',\n",
       "  '671 Blick Club',\n",
       "  '1079 Gutmann Stravenue Apt 76',\n",
       "  '1002 Ankunding Haven',\n",
       "  '484 Leannon Loaf',\n",
       "  '419 Pacocha Station Apt 55'],\n",
       " 'city': ['Swansea',\n",
       "  'Wareham',\n",
       "  'Middleborough',\n",
       "  'Brookfield',\n",
       "  'Wilmington',\n",
       "  'Taunton',\n",
       "  'Weymouth',\n",
       "  'Westfield',\n",
       "  'Wakefield',\n",
       "  'Methuen',\n",
       "  'Hull',\n",
       "  'Brockton',\n",
       "  'Norton',\n",
       "  'Barnstable',\n",
       "  'Westminster',\n",
       "  'Danvers',\n",
       "  'Boston',\n",
       "  'Dennis',\n",
       "  'Salem',\n",
       "  'Brookfield',\n",
       "  'Norton',\n",
       "  'Bellingham',\n",
       "  'West Brookfield',\n",
       "  'Boston',\n",
       "  'Medford',\n",
       "  'Weymouth',\n",
       "  'Brookfield',\n",
       "  'Medford'],\n",
       " 'state': ['MA',\n",
       "  'MA',\n",
       "  'MA',\n",
       "  'MA',\n",
       "  'MA',\n",
       "  'MA',\n",
       "  'MA',\n",
       "  'MA',\n",
       "  'MA',\n",
       "  'MA',\n",
       "  'MA',\n",
       "  'MA',\n",
       "  'MA',\n",
       "  'MA',\n",
       "  'MA',\n",
       "  'MA',\n",
       "  'MA',\n",
       "  'MA',\n",
       "  'MA',\n",
       "  'MA',\n",
       "  'MA',\n",
       "  'MA',\n",
       "  'MA',\n",
       "  'MA',\n",
       "  'MA',\n",
       "  'MA',\n",
       "  'MA',\n",
       "  'MA']}"
      ]
     },
     "metadata": {},
     "execution_count": 655
    }
   ],
   "source": [
    "d"
   ]
  },
  {
   "cell_type": "code",
   "execution_count": 634,
   "metadata": {},
   "outputs": [
    {
     "output_type": "execute_result",
     "data": {
      "text/plain": [
       "['Abernathy524',\n",
       " 'Treutel973',\n",
       " 'Gislason620',\n",
       " 'Maggio310',\n",
       " 'Greenholt190',\n",
       " 'Yost751',\n",
       " 'Pfannerstill264',\n",
       " 'Glover433',\n",
       " 'Johnson679',\n",
       " 'Bode78',\n",
       " 'Denesik803',\n",
       " 'Feil794',\n",
       " 'Kreiger457',\n",
       " 'Lynch190',\n",
       " 'Nienow652',\n",
       " 'Rogahn59',\n",
       " 'Dooley940',\n",
       " 'Braun514',\n",
       " 'Connelly992',\n",
       " 'Schamberger479',\n",
       " 'Dickens475',\n",
       " 'Franecki195',\n",
       " 'Corkery305',\n",
       " 'Rice937',\n",
       " 'Nader710',\n",
       " 'Hegmann834',\n",
       " 'Wuckert783',\n",
       " 'Pollich983']"
      ]
     },
     "metadata": {},
     "execution_count": 634
    }
   ],
   "source": [
    "[r['name'][0]['family'] for r in data]"
   ]
  },
  {
   "cell_type": "code",
   "execution_count": 451,
   "metadata": {},
   "outputs": [],
   "source": [
    "df['language'] = [r['language']['text'] for r in df.communication]"
   ]
  },
  {
   "cell_type": "code",
   "execution_count": 520,
   "metadata": {},
   "outputs": [],
   "source": [
    "d = {}\n",
    "for i in df.columns:\n",
    "    if i == 'id': \n",
    "        d['id'] =  [r for r in df[i]]\n",
    "\n",
    "    elif i == 'communication': \n",
    "        d['language'] = [r[0]['language']['text'] for r in df[i]]\n",
    "    \n",
    "    elif i == 'telecom': \n",
    "        d['phone'] = [r[0]['value'] for r in df[i]]\n",
    "        d['type'] = [r[0]['system'] for r in df[i]]\n",
    "    \n",
    "    elif i  == 'name':\n",
    "        d['lastName']=[r[0]['family'] for r in df[i]]\n",
    "        d['firstname']=[r[0]['given'][0] for r in df[i]]\n",
    "\n"
   ]
  },
  {
   "cell_type": "code",
   "execution_count": 521,
   "metadata": {},
   "outputs": [
    {
     "output_type": "execute_result",
     "data": {
      "text/plain": [
       "{'id': ['c4768f2a-f932-4ab6-a4a5-6e8ae0f9da8d',\n",
       "  'ebf9231d-6a1f-432a-90c2-bc1b340ae047',\n",
       "  'db89be6a-a4c5-4f3c-b62c-a5e1b6abe983',\n",
       "  'ae7f3b20-ac42-423b-9386-884d14a5cfc5',\n",
       "  '421c3eaf-f95c-47af-b8cd-f6cbcb192fad',\n",
       "  'd8e414ef-9d1f-432a-88e6-b1bcdadeb711',\n",
       "  'b716e854-c172-4384-bc92-46a51f2dd91b',\n",
       "  '29b1e7a6-3664-4667-b9ae-2c166aa48b28',\n",
       "  '2116b133-bab9-483e-8afb-e90d6d875962',\n",
       "  'd13874ec-22ea-46ed-a55c-1fd75ef56a58',\n",
       "  '6bc1f207-dac7-4167-9672-60bc3659e3e5',\n",
       "  'd9365a63-86fb-4914-b3ec-8b43716b5767',\n",
       "  '1392b4ce-78ba-4bda-a8ff-d5fe7e04f558',\n",
       "  '34ff2141-1565-4564-a801-18f019fa10ab',\n",
       "  '70c8e3d4-e3ac-4db0-a8eb-74df565283a4',\n",
       "  '75ba3372-0b0c-4fa4-b73c-ee8dce1d6872',\n",
       "  'c223cc3e-7ac7-4a7b-b3a1-04444e6303bf',\n",
       "  '37f771b2-ab08-4026-8bf8-c6bad0e77f92',\n",
       "  'd99eef72-f99a-4494-9706-818b4e8c0919',\n",
       "  'a542b75f-2c04-4688-92d4-02175abb80b6',\n",
       "  '31c49a7a-1f98-455f-ad2a-5d4ccc5f3193',\n",
       "  'b6661250-29bc-4707-b491-cb6c50aba943',\n",
       "  '066206be-6741-41f5-b4c6-3b83c443d158',\n",
       "  'a8bbd3cf-0693-4537-bb14-b3f90edb10cb',\n",
       "  'f2d5118c-a86e-4359-b6c6-64d617b4d88a',\n",
       "  '15c06472-9ac8-488e-a2ef-66252dd71c8c',\n",
       "  '9a085283-9271-4417-a0b9-f04b4664b2ee',\n",
       "  'fc842888-b290-4722-b471-93449a58b773'],\n",
       " 'lastName': ['Abernathy524',\n",
       "  'Treutel973',\n",
       "  'Gislason620',\n",
       "  'Maggio310',\n",
       "  'Greenholt190',\n",
       "  'Yost751',\n",
       "  'Pfannerstill264',\n",
       "  'Glover433',\n",
       "  'Johnson679',\n",
       "  'Bode78',\n",
       "  'Denesik803',\n",
       "  'Feil794',\n",
       "  'Kreiger457',\n",
       "  'Lynch190',\n",
       "  'Nienow652',\n",
       "  'Rogahn59',\n",
       "  'Dooley940',\n",
       "  'Braun514',\n",
       "  'Connelly992',\n",
       "  'Schamberger479',\n",
       "  'Dickens475',\n",
       "  'Franecki195',\n",
       "  'Corkery305',\n",
       "  'Rice937',\n",
       "  'Nader710',\n",
       "  'Hegmann834',\n",
       "  'Wuckert783',\n",
       "  'Pollich983'],\n",
       " 'firstname': ['Treena759',\n",
       "  'Mohamed943',\n",
       "  'Sadye922',\n",
       "  'Dot905',\n",
       "  'Wava789',\n",
       "  'Rosalia943',\n",
       "  'Clemente531',\n",
       "  'Alan320',\n",
       "  'Judson999',\n",
       "  'Cleo27',\n",
       "  'Bart73',\n",
       "  'Hosea56',\n",
       "  'Otto672',\n",
       "  'Rosamond509',\n",
       "  'Erasmo545',\n",
       "  'Alexis664',\n",
       "  'Silas208',\n",
       "  'Roy364',\n",
       "  'Billi682',\n",
       "  'Alane21',\n",
       "  'Jeni110',\n",
       "  'Damian46',\n",
       "  'Gerard367',\n",
       "  'Elbert916',\n",
       "  'Celesta195',\n",
       "  'Napoleon578',\n",
       "  'Yetta429',\n",
       "  'Johnny786'],\n",
       " 'phone': ['555-169-2844',\n",
       "  '555-523-4673',\n",
       "  '555-845-8224',\n",
       "  '555-658-8363',\n",
       "  '555-815-1331',\n",
       "  '555-222-8384',\n",
       "  '555-910-5598',\n",
       "  '555-512-5627',\n",
       "  '555-883-3861',\n",
       "  '555-703-6424',\n",
       "  '555-795-5782',\n",
       "  '555-869-4069',\n",
       "  '555-427-3512',\n",
       "  '555-963-3651',\n",
       "  '555-211-9168',\n",
       "  '555-943-6029',\n",
       "  '555-772-4530',\n",
       "  '555-767-1110',\n",
       "  '555-216-1193',\n",
       "  '555-856-1312',\n",
       "  '555-390-2262',\n",
       "  '555-269-1661',\n",
       "  '555-966-4144',\n",
       "  '555-338-7473',\n",
       "  '555-547-2668',\n",
       "  '555-431-3282',\n",
       "  '555-313-1723',\n",
       "  '555-192-6853'],\n",
       " 'type': ['phone',\n",
       "  'phone',\n",
       "  'phone',\n",
       "  'phone',\n",
       "  'phone',\n",
       "  'phone',\n",
       "  'phone',\n",
       "  'phone',\n",
       "  'phone',\n",
       "  'phone',\n",
       "  'phone',\n",
       "  'phone',\n",
       "  'phone',\n",
       "  'phone',\n",
       "  'phone',\n",
       "  'phone',\n",
       "  'phone',\n",
       "  'phone',\n",
       "  'phone',\n",
       "  'phone',\n",
       "  'phone',\n",
       "  'phone',\n",
       "  'phone',\n",
       "  'phone',\n",
       "  'phone',\n",
       "  'phone',\n",
       "  'phone',\n",
       "  'phone'],\n",
       " 'language': ['English',\n",
       "  'Russian (Russia)',\n",
       "  'English',\n",
       "  'English',\n",
       "  'English',\n",
       "  'English',\n",
       "  'English',\n",
       "  'English',\n",
       "  'English',\n",
       "  'English',\n",
       "  'English',\n",
       "  'English',\n",
       "  'English',\n",
       "  'English',\n",
       "  'English',\n",
       "  'English',\n",
       "  'English',\n",
       "  'English',\n",
       "  'English',\n",
       "  'English',\n",
       "  'English',\n",
       "  'English',\n",
       "  'English',\n",
       "  'English',\n",
       "  'English',\n",
       "  'English',\n",
       "  'English',\n",
       "  'English']}"
      ]
     },
     "metadata": {},
     "execution_count": 521
    }
   ],
   "source": [
    "d\n",
    "        "
   ]
  },
  {
   "cell_type": "code",
   "execution_count": 522,
   "metadata": {},
   "outputs": [
    {
     "output_type": "execute_result",
     "data": {
      "text/plain": [
       "                                      id  ...          language\n",
       "0   c4768f2a-f932-4ab6-a4a5-6e8ae0f9da8d  ...           English\n",
       "1   ebf9231d-6a1f-432a-90c2-bc1b340ae047  ...  Russian (Russia)\n",
       "2   db89be6a-a4c5-4f3c-b62c-a5e1b6abe983  ...           English\n",
       "3   ae7f3b20-ac42-423b-9386-884d14a5cfc5  ...           English\n",
       "4   421c3eaf-f95c-47af-b8cd-f6cbcb192fad  ...           English\n",
       "5   d8e414ef-9d1f-432a-88e6-b1bcdadeb711  ...           English\n",
       "6   b716e854-c172-4384-bc92-46a51f2dd91b  ...           English\n",
       "7   29b1e7a6-3664-4667-b9ae-2c166aa48b28  ...           English\n",
       "8   2116b133-bab9-483e-8afb-e90d6d875962  ...           English\n",
       "9   d13874ec-22ea-46ed-a55c-1fd75ef56a58  ...           English\n",
       "10  6bc1f207-dac7-4167-9672-60bc3659e3e5  ...           English\n",
       "11  d9365a63-86fb-4914-b3ec-8b43716b5767  ...           English\n",
       "12  1392b4ce-78ba-4bda-a8ff-d5fe7e04f558  ...           English\n",
       "13  34ff2141-1565-4564-a801-18f019fa10ab  ...           English\n",
       "14  70c8e3d4-e3ac-4db0-a8eb-74df565283a4  ...           English\n",
       "15  75ba3372-0b0c-4fa4-b73c-ee8dce1d6872  ...           English\n",
       "16  c223cc3e-7ac7-4a7b-b3a1-04444e6303bf  ...           English\n",
       "17  37f771b2-ab08-4026-8bf8-c6bad0e77f92  ...           English\n",
       "18  d99eef72-f99a-4494-9706-818b4e8c0919  ...           English\n",
       "19  a542b75f-2c04-4688-92d4-02175abb80b6  ...           English\n",
       "20  31c49a7a-1f98-455f-ad2a-5d4ccc5f3193  ...           English\n",
       "21  b6661250-29bc-4707-b491-cb6c50aba943  ...           English\n",
       "22  066206be-6741-41f5-b4c6-3b83c443d158  ...           English\n",
       "23  a8bbd3cf-0693-4537-bb14-b3f90edb10cb  ...           English\n",
       "24  f2d5118c-a86e-4359-b6c6-64d617b4d88a  ...           English\n",
       "25  15c06472-9ac8-488e-a2ef-66252dd71c8c  ...           English\n",
       "26  9a085283-9271-4417-a0b9-f04b4664b2ee  ...           English\n",
       "27  fc842888-b290-4722-b471-93449a58b773  ...           English\n",
       "\n",
       "[28 rows x 6 columns]"
      ],
      "text/html": "<div>\n<style scoped>\n    .dataframe tbody tr th:only-of-type {\n        vertical-align: middle;\n    }\n\n    .dataframe tbody tr th {\n        vertical-align: top;\n    }\n\n    .dataframe thead th {\n        text-align: right;\n    }\n</style>\n<table border=\"1\" class=\"dataframe\">\n  <thead>\n    <tr style=\"text-align: right;\">\n      <th></th>\n      <th>id</th>\n      <th>lastName</th>\n      <th>firstname</th>\n      <th>phone</th>\n      <th>type</th>\n      <th>language</th>\n    </tr>\n  </thead>\n  <tbody>\n    <tr>\n      <th>0</th>\n      <td>c4768f2a-f932-4ab6-a4a5-6e8ae0f9da8d</td>\n      <td>Abernathy524</td>\n      <td>Treena759</td>\n      <td>555-169-2844</td>\n      <td>phone</td>\n      <td>English</td>\n    </tr>\n    <tr>\n      <th>1</th>\n      <td>ebf9231d-6a1f-432a-90c2-bc1b340ae047</td>\n      <td>Treutel973</td>\n      <td>Mohamed943</td>\n      <td>555-523-4673</td>\n      <td>phone</td>\n      <td>Russian (Russia)</td>\n    </tr>\n    <tr>\n      <th>2</th>\n      <td>db89be6a-a4c5-4f3c-b62c-a5e1b6abe983</td>\n      <td>Gislason620</td>\n      <td>Sadye922</td>\n      <td>555-845-8224</td>\n      <td>phone</td>\n      <td>English</td>\n    </tr>\n    <tr>\n      <th>3</th>\n      <td>ae7f3b20-ac42-423b-9386-884d14a5cfc5</td>\n      <td>Maggio310</td>\n      <td>Dot905</td>\n      <td>555-658-8363</td>\n      <td>phone</td>\n      <td>English</td>\n    </tr>\n    <tr>\n      <th>4</th>\n      <td>421c3eaf-f95c-47af-b8cd-f6cbcb192fad</td>\n      <td>Greenholt190</td>\n      <td>Wava789</td>\n      <td>555-815-1331</td>\n      <td>phone</td>\n      <td>English</td>\n    </tr>\n    <tr>\n      <th>5</th>\n      <td>d8e414ef-9d1f-432a-88e6-b1bcdadeb711</td>\n      <td>Yost751</td>\n      <td>Rosalia943</td>\n      <td>555-222-8384</td>\n      <td>phone</td>\n      <td>English</td>\n    </tr>\n    <tr>\n      <th>6</th>\n      <td>b716e854-c172-4384-bc92-46a51f2dd91b</td>\n      <td>Pfannerstill264</td>\n      <td>Clemente531</td>\n      <td>555-910-5598</td>\n      <td>phone</td>\n      <td>English</td>\n    </tr>\n    <tr>\n      <th>7</th>\n      <td>29b1e7a6-3664-4667-b9ae-2c166aa48b28</td>\n      <td>Glover433</td>\n      <td>Alan320</td>\n      <td>555-512-5627</td>\n      <td>phone</td>\n      <td>English</td>\n    </tr>\n    <tr>\n      <th>8</th>\n      <td>2116b133-bab9-483e-8afb-e90d6d875962</td>\n      <td>Johnson679</td>\n      <td>Judson999</td>\n      <td>555-883-3861</td>\n      <td>phone</td>\n      <td>English</td>\n    </tr>\n    <tr>\n      <th>9</th>\n      <td>d13874ec-22ea-46ed-a55c-1fd75ef56a58</td>\n      <td>Bode78</td>\n      <td>Cleo27</td>\n      <td>555-703-6424</td>\n      <td>phone</td>\n      <td>English</td>\n    </tr>\n    <tr>\n      <th>10</th>\n      <td>6bc1f207-dac7-4167-9672-60bc3659e3e5</td>\n      <td>Denesik803</td>\n      <td>Bart73</td>\n      <td>555-795-5782</td>\n      <td>phone</td>\n      <td>English</td>\n    </tr>\n    <tr>\n      <th>11</th>\n      <td>d9365a63-86fb-4914-b3ec-8b43716b5767</td>\n      <td>Feil794</td>\n      <td>Hosea56</td>\n      <td>555-869-4069</td>\n      <td>phone</td>\n      <td>English</td>\n    </tr>\n    <tr>\n      <th>12</th>\n      <td>1392b4ce-78ba-4bda-a8ff-d5fe7e04f558</td>\n      <td>Kreiger457</td>\n      <td>Otto672</td>\n      <td>555-427-3512</td>\n      <td>phone</td>\n      <td>English</td>\n    </tr>\n    <tr>\n      <th>13</th>\n      <td>34ff2141-1565-4564-a801-18f019fa10ab</td>\n      <td>Lynch190</td>\n      <td>Rosamond509</td>\n      <td>555-963-3651</td>\n      <td>phone</td>\n      <td>English</td>\n    </tr>\n    <tr>\n      <th>14</th>\n      <td>70c8e3d4-e3ac-4db0-a8eb-74df565283a4</td>\n      <td>Nienow652</td>\n      <td>Erasmo545</td>\n      <td>555-211-9168</td>\n      <td>phone</td>\n      <td>English</td>\n    </tr>\n    <tr>\n      <th>15</th>\n      <td>75ba3372-0b0c-4fa4-b73c-ee8dce1d6872</td>\n      <td>Rogahn59</td>\n      <td>Alexis664</td>\n      <td>555-943-6029</td>\n      <td>phone</td>\n      <td>English</td>\n    </tr>\n    <tr>\n      <th>16</th>\n      <td>c223cc3e-7ac7-4a7b-b3a1-04444e6303bf</td>\n      <td>Dooley940</td>\n      <td>Silas208</td>\n      <td>555-772-4530</td>\n      <td>phone</td>\n      <td>English</td>\n    </tr>\n    <tr>\n      <th>17</th>\n      <td>37f771b2-ab08-4026-8bf8-c6bad0e77f92</td>\n      <td>Braun514</td>\n      <td>Roy364</td>\n      <td>555-767-1110</td>\n      <td>phone</td>\n      <td>English</td>\n    </tr>\n    <tr>\n      <th>18</th>\n      <td>d99eef72-f99a-4494-9706-818b4e8c0919</td>\n      <td>Connelly992</td>\n      <td>Billi682</td>\n      <td>555-216-1193</td>\n      <td>phone</td>\n      <td>English</td>\n    </tr>\n    <tr>\n      <th>19</th>\n      <td>a542b75f-2c04-4688-92d4-02175abb80b6</td>\n      <td>Schamberger479</td>\n      <td>Alane21</td>\n      <td>555-856-1312</td>\n      <td>phone</td>\n      <td>English</td>\n    </tr>\n    <tr>\n      <th>20</th>\n      <td>31c49a7a-1f98-455f-ad2a-5d4ccc5f3193</td>\n      <td>Dickens475</td>\n      <td>Jeni110</td>\n      <td>555-390-2262</td>\n      <td>phone</td>\n      <td>English</td>\n    </tr>\n    <tr>\n      <th>21</th>\n      <td>b6661250-29bc-4707-b491-cb6c50aba943</td>\n      <td>Franecki195</td>\n      <td>Damian46</td>\n      <td>555-269-1661</td>\n      <td>phone</td>\n      <td>English</td>\n    </tr>\n    <tr>\n      <th>22</th>\n      <td>066206be-6741-41f5-b4c6-3b83c443d158</td>\n      <td>Corkery305</td>\n      <td>Gerard367</td>\n      <td>555-966-4144</td>\n      <td>phone</td>\n      <td>English</td>\n    </tr>\n    <tr>\n      <th>23</th>\n      <td>a8bbd3cf-0693-4537-bb14-b3f90edb10cb</td>\n      <td>Rice937</td>\n      <td>Elbert916</td>\n      <td>555-338-7473</td>\n      <td>phone</td>\n      <td>English</td>\n    </tr>\n    <tr>\n      <th>24</th>\n      <td>f2d5118c-a86e-4359-b6c6-64d617b4d88a</td>\n      <td>Nader710</td>\n      <td>Celesta195</td>\n      <td>555-547-2668</td>\n      <td>phone</td>\n      <td>English</td>\n    </tr>\n    <tr>\n      <th>25</th>\n      <td>15c06472-9ac8-488e-a2ef-66252dd71c8c</td>\n      <td>Hegmann834</td>\n      <td>Napoleon578</td>\n      <td>555-431-3282</td>\n      <td>phone</td>\n      <td>English</td>\n    </tr>\n    <tr>\n      <th>26</th>\n      <td>9a085283-9271-4417-a0b9-f04b4664b2ee</td>\n      <td>Wuckert783</td>\n      <td>Yetta429</td>\n      <td>555-313-1723</td>\n      <td>phone</td>\n      <td>English</td>\n    </tr>\n    <tr>\n      <th>27</th>\n      <td>fc842888-b290-4722-b471-93449a58b773</td>\n      <td>Pollich983</td>\n      <td>Johnny786</td>\n      <td>555-192-6853</td>\n      <td>phone</td>\n      <td>English</td>\n    </tr>\n  </tbody>\n</table>\n</div>"
     },
     "metadata": {},
     "execution_count": 522
    }
   ],
   "source": [
    "pd.DataFrame(d)\n"
   ]
  },
  {
   "cell_type": "code",
   "execution_count": 583,
   "metadata": {},
   "outputs": [
    {
     "output_type": "execute_result",
     "data": {
      "text/plain": [
       "'415 Davis Neck Unit 94'"
      ]
     },
     "metadata": {},
     "execution_count": 583
    }
   ],
   "source": [
    "data[0]['address'][0]['line'][0]"
   ]
  },
  {
   "cell_type": "code",
   "execution_count": 192,
   "metadata": {},
   "outputs": [
    {
     "output_type": "execute_result",
     "data": {
      "text/plain": [
       "  resourceType  ...           deceasedDateTime\n",
       "0      Patient  ...                        NaN\n",
       "1      Patient  ...                        NaN\n",
       "2      Patient  ...                        NaN\n",
       "3      Patient  ...  2020-03-30T15:42:49-04:00\n",
       "4      Patient  ...                        NaN\n",
       "\n",
       "[5 rows x 15 columns]"
      ],
      "text/html": "<div>\n<style scoped>\n    .dataframe tbody tr th:only-of-type {\n        vertical-align: middle;\n    }\n\n    .dataframe tbody tr th {\n        vertical-align: top;\n    }\n\n    .dataframe thead th {\n        text-align: right;\n    }\n</style>\n<table border=\"1\" class=\"dataframe\">\n  <thead>\n    <tr style=\"text-align: right;\">\n      <th></th>\n      <th>resourceType</th>\n      <th>id</th>\n      <th>meta</th>\n      <th>text</th>\n      <th>extension</th>\n      <th>identifier</th>\n      <th>name</th>\n      <th>telecom</th>\n      <th>gender</th>\n      <th>birthDate</th>\n      <th>address</th>\n      <th>maritalStatus</th>\n      <th>multipleBirthBoolean</th>\n      <th>communication</th>\n      <th>deceasedDateTime</th>\n    </tr>\n  </thead>\n  <tbody>\n    <tr>\n      <th>0</th>\n      <td>Patient</td>\n      <td>c4768f2a-f932-4ab6-a4a5-6e8ae0f9da8d</td>\n      <td>{'profile': ['http://standardhealthrecord.org/...</td>\n      <td>{'status': 'generated', 'div': '&lt;div xmlns=\"ht...</td>\n      <td>[{'url': 'http://hl7.org/fhir/us/core/Structur...</td>\n      <td>[{'system': 'https://github.com/synthetichealt...</td>\n      <td>[{'use': 'official', 'family': 'Abernathy524',...</td>\n      <td>[{'system': 'phone', 'value': '555-169-2844', ...</td>\n      <td>female</td>\n      <td>1988-01-05</td>\n      <td>[{'extension': [{'url': 'http://hl7.org/fhir/S...</td>\n      <td>{'coding': [{'system': 'http://terminology.hl7...</td>\n      <td>False</td>\n      <td>[{'language': {'coding': [{'system': 'urn:ietf...</td>\n      <td>NaN</td>\n    </tr>\n    <tr>\n      <th>1</th>\n      <td>Patient</td>\n      <td>ebf9231d-6a1f-432a-90c2-bc1b340ae047</td>\n      <td>{'profile': ['http://standardhealthrecord.org/...</td>\n      <td>{'status': 'generated', 'div': '&lt;div xmlns=\"ht...</td>\n      <td>[{'url': 'http://hl7.org/fhir/us/core/Structur...</td>\n      <td>[{'system': 'https://github.com/synthetichealt...</td>\n      <td>[{'use': 'official', 'family': 'Treutel973', '...</td>\n      <td>[{'system': 'phone', 'value': '555-523-4673', ...</td>\n      <td>male</td>\n      <td>2010-03-04</td>\n      <td>[{'extension': [{'url': 'http://hl7.org/fhir/S...</td>\n      <td>{'coding': [{'system': 'http://terminology.hl7...</td>\n      <td>False</td>\n      <td>[{'language': {'coding': [{'system': 'urn:ietf...</td>\n      <td>NaN</td>\n    </tr>\n    <tr>\n      <th>2</th>\n      <td>Patient</td>\n      <td>db89be6a-a4c5-4f3c-b62c-a5e1b6abe983</td>\n      <td>{'profile': ['http://standardhealthrecord.org/...</td>\n      <td>{'status': 'generated', 'div': '&lt;div xmlns=\"ht...</td>\n      <td>[{'url': 'http://hl7.org/fhir/us/core/Structur...</td>\n      <td>[{'system': 'https://github.com/synthetichealt...</td>\n      <td>[{'use': 'official', 'family': 'Gislason620', ...</td>\n      <td>[{'system': 'phone', 'value': '555-845-8224', ...</td>\n      <td>female</td>\n      <td>1977-06-01</td>\n      <td>[{'extension': [{'url': 'http://hl7.org/fhir/S...</td>\n      <td>{'coding': [{'system': 'http://terminology.hl7...</td>\n      <td>False</td>\n      <td>[{'language': {'coding': [{'system': 'urn:ietf...</td>\n      <td>NaN</td>\n    </tr>\n    <tr>\n      <th>3</th>\n      <td>Patient</td>\n      <td>ae7f3b20-ac42-423b-9386-884d14a5cfc5</td>\n      <td>{'profile': ['http://standardhealthrecord.org/...</td>\n      <td>{'status': 'generated', 'div': '&lt;div xmlns=\"ht...</td>\n      <td>[{'url': 'http://hl7.org/fhir/us/core/Structur...</td>\n      <td>[{'system': 'https://github.com/synthetichealt...</td>\n      <td>[{'use': 'official', 'family': 'Maggio310', 'g...</td>\n      <td>[{'system': 'phone', 'value': '555-658-8363', ...</td>\n      <td>female</td>\n      <td>1953-12-30</td>\n      <td>[{'extension': [{'url': 'http://hl7.org/fhir/S...</td>\n      <td>{'coding': [{'system': 'http://terminology.hl7...</td>\n      <td>False</td>\n      <td>[{'language': {'coding': [{'system': 'urn:ietf...</td>\n      <td>2020-03-30T15:42:49-04:00</td>\n    </tr>\n    <tr>\n      <th>4</th>\n      <td>Patient</td>\n      <td>421c3eaf-f95c-47af-b8cd-f6cbcb192fad</td>\n      <td>{'profile': ['http://standardhealthrecord.org/...</td>\n      <td>{'status': 'generated', 'div': '&lt;div xmlns=\"ht...</td>\n      <td>[{'url': 'http://hl7.org/fhir/us/core/Structur...</td>\n      <td>[{'system': 'https://github.com/synthetichealt...</td>\n      <td>[{'use': 'official', 'family': 'Greenholt190',...</td>\n      <td>[{'system': 'phone', 'value': '555-815-1331', ...</td>\n      <td>female</td>\n      <td>1995-06-13</td>\n      <td>[{'extension': [{'url': 'http://hl7.org/fhir/S...</td>\n      <td>{'coding': [{'system': 'http://terminology.hl7...</td>\n      <td>False</td>\n      <td>[{'language': {'coding': [{'system': 'urn:ietf...</td>\n      <td>NaN</td>\n    </tr>\n  </tbody>\n</table>\n</div>"
     },
     "metadata": {},
     "execution_count": 192
    }
   ],
   "source": [
    "df.head()"
   ]
  },
  {
   "cell_type": "code",
   "execution_count": 187,
   "metadata": {
    "tags": []
   },
   "outputs": [
    {
     "output_type": "error",
     "ename": "ValueError",
     "evalue": "arrays must all be same length",
     "traceback": [
      "\u001b[0;31m---------------------------------------------------------------------------\u001b[0m",
      "\u001b[0;31mValueError\u001b[0m                                Traceback (most recent call last)",
      "\u001b[0;32m<ipython-input-187-77cad2a2faf9>\u001b[0m in \u001b[0;36m<module>\u001b[0;34m\u001b[0m\n\u001b[1;32m      4\u001b[0m \u001b[0ml\u001b[0m \u001b[0;34m=\u001b[0m \u001b[0mStringIO\u001b[0m\u001b[0;34m(\u001b[0m\u001b[0mh\u001b[0m\u001b[0;34m)\u001b[0m\u001b[0;34m\u001b[0m\u001b[0;34m\u001b[0m\u001b[0m\n\u001b[1;32m      5\u001b[0m \u001b[0;34m\u001b[0m\u001b[0m\n\u001b[0;32m----> 6\u001b[0;31m \u001b[0mpd\u001b[0m\u001b[0;34m.\u001b[0m\u001b[0mread_json\u001b[0m\u001b[0;34m(\u001b[0m\u001b[0ml\u001b[0m\u001b[0;34m)\u001b[0m\u001b[0;34m\u001b[0m\u001b[0;34m\u001b[0m\u001b[0m\n\u001b[0m",
      "\u001b[0;32m~/.local/lib/python3.8/site-packages/pandas/util/_decorators.py\u001b[0m in \u001b[0;36mwrapper\u001b[0;34m(*args, **kwargs)\u001b[0m\n\u001b[1;32m    197\u001b[0m                 \u001b[0;32melse\u001b[0m\u001b[0;34m:\u001b[0m\u001b[0;34m\u001b[0m\u001b[0;34m\u001b[0m\u001b[0m\n\u001b[1;32m    198\u001b[0m                     \u001b[0mkwargs\u001b[0m\u001b[0;34m[\u001b[0m\u001b[0mnew_arg_name\u001b[0m\u001b[0;34m]\u001b[0m \u001b[0;34m=\u001b[0m \u001b[0mnew_arg_value\u001b[0m\u001b[0;34m\u001b[0m\u001b[0;34m\u001b[0m\u001b[0m\n\u001b[0;32m--> 199\u001b[0;31m             \u001b[0;32mreturn\u001b[0m \u001b[0mfunc\u001b[0m\u001b[0;34m(\u001b[0m\u001b[0;34m*\u001b[0m\u001b[0margs\u001b[0m\u001b[0;34m,\u001b[0m \u001b[0;34m**\u001b[0m\u001b[0mkwargs\u001b[0m\u001b[0;34m)\u001b[0m\u001b[0;34m\u001b[0m\u001b[0;34m\u001b[0m\u001b[0m\n\u001b[0m\u001b[1;32m    200\u001b[0m \u001b[0;34m\u001b[0m\u001b[0m\n\u001b[1;32m    201\u001b[0m         \u001b[0;32mreturn\u001b[0m \u001b[0mcast\u001b[0m\u001b[0;34m(\u001b[0m\u001b[0mF\u001b[0m\u001b[0;34m,\u001b[0m \u001b[0mwrapper\u001b[0m\u001b[0;34m)\u001b[0m\u001b[0;34m\u001b[0m\u001b[0;34m\u001b[0m\u001b[0m\n",
      "\u001b[0;32m~/.local/lib/python3.8/site-packages/pandas/util/_decorators.py\u001b[0m in \u001b[0;36mwrapper\u001b[0;34m(*args, **kwargs)\u001b[0m\n\u001b[1;32m    294\u001b[0m                 )\n\u001b[1;32m    295\u001b[0m                 \u001b[0mwarnings\u001b[0m\u001b[0;34m.\u001b[0m\u001b[0mwarn\u001b[0m\u001b[0;34m(\u001b[0m\u001b[0mmsg\u001b[0m\u001b[0;34m,\u001b[0m \u001b[0mFutureWarning\u001b[0m\u001b[0;34m,\u001b[0m \u001b[0mstacklevel\u001b[0m\u001b[0;34m=\u001b[0m\u001b[0mstacklevel\u001b[0m\u001b[0;34m)\u001b[0m\u001b[0;34m\u001b[0m\u001b[0;34m\u001b[0m\u001b[0m\n\u001b[0;32m--> 296\u001b[0;31m             \u001b[0;32mreturn\u001b[0m \u001b[0mfunc\u001b[0m\u001b[0;34m(\u001b[0m\u001b[0;34m*\u001b[0m\u001b[0margs\u001b[0m\u001b[0;34m,\u001b[0m \u001b[0;34m**\u001b[0m\u001b[0mkwargs\u001b[0m\u001b[0;34m)\u001b[0m\u001b[0;34m\u001b[0m\u001b[0;34m\u001b[0m\u001b[0m\n\u001b[0m\u001b[1;32m    297\u001b[0m \u001b[0;34m\u001b[0m\u001b[0m\n\u001b[1;32m    298\u001b[0m         \u001b[0;32mreturn\u001b[0m \u001b[0mwrapper\u001b[0m\u001b[0;34m\u001b[0m\u001b[0;34m\u001b[0m\u001b[0m\n",
      "\u001b[0;32m~/.local/lib/python3.8/site-packages/pandas/io/json/_json.py\u001b[0m in \u001b[0;36mread_json\u001b[0;34m(path_or_buf, orient, typ, dtype, convert_axes, convert_dates, keep_default_dates, numpy, precise_float, date_unit, encoding, lines, chunksize, compression, nrows)\u001b[0m\n\u001b[1;32m    616\u001b[0m         \u001b[0;32mreturn\u001b[0m \u001b[0mjson_reader\u001b[0m\u001b[0;34m\u001b[0m\u001b[0;34m\u001b[0m\u001b[0m\n\u001b[1;32m    617\u001b[0m \u001b[0;34m\u001b[0m\u001b[0m\n\u001b[0;32m--> 618\u001b[0;31m     \u001b[0mresult\u001b[0m \u001b[0;34m=\u001b[0m \u001b[0mjson_reader\u001b[0m\u001b[0;34m.\u001b[0m\u001b[0mread\u001b[0m\u001b[0;34m(\u001b[0m\u001b[0;34m)\u001b[0m\u001b[0;34m\u001b[0m\u001b[0;34m\u001b[0m\u001b[0m\n\u001b[0m\u001b[1;32m    619\u001b[0m     \u001b[0;32mif\u001b[0m \u001b[0mshould_close\u001b[0m\u001b[0;34m:\u001b[0m\u001b[0;34m\u001b[0m\u001b[0;34m\u001b[0m\u001b[0m\n\u001b[1;32m    620\u001b[0m         \u001b[0mfilepath_or_buffer\u001b[0m\u001b[0;34m.\u001b[0m\u001b[0mclose\u001b[0m\u001b[0;34m(\u001b[0m\u001b[0;34m)\u001b[0m\u001b[0;34m\u001b[0m\u001b[0;34m\u001b[0m\u001b[0m\n",
      "\u001b[0;32m~/.local/lib/python3.8/site-packages/pandas/io/json/_json.py\u001b[0m in \u001b[0;36mread\u001b[0;34m(self)\u001b[0m\n\u001b[1;32m    753\u001b[0m                 \u001b[0mobj\u001b[0m \u001b[0;34m=\u001b[0m \u001b[0mself\u001b[0m\u001b[0;34m.\u001b[0m\u001b[0m_get_object_parser\u001b[0m\u001b[0;34m(\u001b[0m\u001b[0mself\u001b[0m\u001b[0;34m.\u001b[0m\u001b[0m_combine_lines\u001b[0m\u001b[0;34m(\u001b[0m\u001b[0mdata\u001b[0m\u001b[0;34m)\u001b[0m\u001b[0;34m)\u001b[0m\u001b[0;34m\u001b[0m\u001b[0;34m\u001b[0m\u001b[0m\n\u001b[1;32m    754\u001b[0m         \u001b[0;32melse\u001b[0m\u001b[0;34m:\u001b[0m\u001b[0;34m\u001b[0m\u001b[0;34m\u001b[0m\u001b[0m\n\u001b[0;32m--> 755\u001b[0;31m             \u001b[0mobj\u001b[0m \u001b[0;34m=\u001b[0m \u001b[0mself\u001b[0m\u001b[0;34m.\u001b[0m\u001b[0m_get_object_parser\u001b[0m\u001b[0;34m(\u001b[0m\u001b[0mself\u001b[0m\u001b[0;34m.\u001b[0m\u001b[0mdata\u001b[0m\u001b[0;34m)\u001b[0m\u001b[0;34m\u001b[0m\u001b[0;34m\u001b[0m\u001b[0m\n\u001b[0m\u001b[1;32m    756\u001b[0m         \u001b[0mself\u001b[0m\u001b[0;34m.\u001b[0m\u001b[0mclose\u001b[0m\u001b[0;34m(\u001b[0m\u001b[0;34m)\u001b[0m\u001b[0;34m\u001b[0m\u001b[0;34m\u001b[0m\u001b[0m\n\u001b[1;32m    757\u001b[0m         \u001b[0;32mreturn\u001b[0m \u001b[0mobj\u001b[0m\u001b[0;34m\u001b[0m\u001b[0;34m\u001b[0m\u001b[0m\n",
      "\u001b[0;32m~/.local/lib/python3.8/site-packages/pandas/io/json/_json.py\u001b[0m in \u001b[0;36m_get_object_parser\u001b[0;34m(self, json)\u001b[0m\n\u001b[1;32m    775\u001b[0m         \u001b[0mobj\u001b[0m \u001b[0;34m=\u001b[0m \u001b[0;32mNone\u001b[0m\u001b[0;34m\u001b[0m\u001b[0;34m\u001b[0m\u001b[0m\n\u001b[1;32m    776\u001b[0m         \u001b[0;32mif\u001b[0m \u001b[0mtyp\u001b[0m \u001b[0;34m==\u001b[0m \u001b[0;34m\"frame\"\u001b[0m\u001b[0;34m:\u001b[0m\u001b[0;34m\u001b[0m\u001b[0;34m\u001b[0m\u001b[0m\n\u001b[0;32m--> 777\u001b[0;31m             \u001b[0mobj\u001b[0m \u001b[0;34m=\u001b[0m \u001b[0mFrameParser\u001b[0m\u001b[0;34m(\u001b[0m\u001b[0mjson\u001b[0m\u001b[0;34m,\u001b[0m \u001b[0;34m**\u001b[0m\u001b[0mkwargs\u001b[0m\u001b[0;34m)\u001b[0m\u001b[0;34m.\u001b[0m\u001b[0mparse\u001b[0m\u001b[0;34m(\u001b[0m\u001b[0;34m)\u001b[0m\u001b[0;34m\u001b[0m\u001b[0;34m\u001b[0m\u001b[0m\n\u001b[0m\u001b[1;32m    778\u001b[0m \u001b[0;34m\u001b[0m\u001b[0m\n\u001b[1;32m    779\u001b[0m         \u001b[0;32mif\u001b[0m \u001b[0mtyp\u001b[0m \u001b[0;34m==\u001b[0m \u001b[0;34m\"series\"\u001b[0m \u001b[0;32mor\u001b[0m \u001b[0mobj\u001b[0m \u001b[0;32mis\u001b[0m \u001b[0;32mNone\u001b[0m\u001b[0;34m:\u001b[0m\u001b[0;34m\u001b[0m\u001b[0;34m\u001b[0m\u001b[0m\n",
      "\u001b[0;32m~/.local/lib/python3.8/site-packages/pandas/io/json/_json.py\u001b[0m in \u001b[0;36mparse\u001b[0;34m(self)\u001b[0m\n\u001b[1;32m    884\u001b[0m \u001b[0;34m\u001b[0m\u001b[0m\n\u001b[1;32m    885\u001b[0m         \u001b[0;32melse\u001b[0m\u001b[0;34m:\u001b[0m\u001b[0;34m\u001b[0m\u001b[0;34m\u001b[0m\u001b[0m\n\u001b[0;32m--> 886\u001b[0;31m             \u001b[0mself\u001b[0m\u001b[0;34m.\u001b[0m\u001b[0m_parse_no_numpy\u001b[0m\u001b[0;34m(\u001b[0m\u001b[0;34m)\u001b[0m\u001b[0;34m\u001b[0m\u001b[0;34m\u001b[0m\u001b[0m\n\u001b[0m\u001b[1;32m    887\u001b[0m \u001b[0;34m\u001b[0m\u001b[0m\n\u001b[1;32m    888\u001b[0m         \u001b[0;32mif\u001b[0m \u001b[0mself\u001b[0m\u001b[0;34m.\u001b[0m\u001b[0mobj\u001b[0m \u001b[0;32mis\u001b[0m \u001b[0;32mNone\u001b[0m\u001b[0;34m:\u001b[0m\u001b[0;34m\u001b[0m\u001b[0;34m\u001b[0m\u001b[0m\n",
      "\u001b[0;32m~/.local/lib/python3.8/site-packages/pandas/io/json/_json.py\u001b[0m in \u001b[0;36m_parse_no_numpy\u001b[0;34m(self)\u001b[0m\n\u001b[1;32m   1116\u001b[0m \u001b[0;34m\u001b[0m\u001b[0m\n\u001b[1;32m   1117\u001b[0m         \u001b[0;32mif\u001b[0m \u001b[0morient\u001b[0m \u001b[0;34m==\u001b[0m \u001b[0;34m\"columns\"\u001b[0m\u001b[0;34m:\u001b[0m\u001b[0;34m\u001b[0m\u001b[0;34m\u001b[0m\u001b[0m\n\u001b[0;32m-> 1118\u001b[0;31m             self.obj = DataFrame(\n\u001b[0m\u001b[1;32m   1119\u001b[0m                 \u001b[0mloads\u001b[0m\u001b[0;34m(\u001b[0m\u001b[0mjson\u001b[0m\u001b[0;34m,\u001b[0m \u001b[0mprecise_float\u001b[0m\u001b[0;34m=\u001b[0m\u001b[0mself\u001b[0m\u001b[0;34m.\u001b[0m\u001b[0mprecise_float\u001b[0m\u001b[0;34m)\u001b[0m\u001b[0;34m,\u001b[0m \u001b[0mdtype\u001b[0m\u001b[0;34m=\u001b[0m\u001b[0;32mNone\u001b[0m\u001b[0;34m\u001b[0m\u001b[0;34m\u001b[0m\u001b[0m\n\u001b[1;32m   1120\u001b[0m             )\n",
      "\u001b[0;32m~/.local/lib/python3.8/site-packages/pandas/core/frame.py\u001b[0m in \u001b[0;36m__init__\u001b[0;34m(self, data, index, columns, dtype, copy)\u001b[0m\n\u001b[1;32m    466\u001b[0m \u001b[0;34m\u001b[0m\u001b[0m\n\u001b[1;32m    467\u001b[0m         \u001b[0;32melif\u001b[0m \u001b[0misinstance\u001b[0m\u001b[0;34m(\u001b[0m\u001b[0mdata\u001b[0m\u001b[0;34m,\u001b[0m \u001b[0mdict\u001b[0m\u001b[0;34m)\u001b[0m\u001b[0;34m:\u001b[0m\u001b[0;34m\u001b[0m\u001b[0;34m\u001b[0m\u001b[0m\n\u001b[0;32m--> 468\u001b[0;31m             \u001b[0mmgr\u001b[0m \u001b[0;34m=\u001b[0m \u001b[0minit_dict\u001b[0m\u001b[0;34m(\u001b[0m\u001b[0mdata\u001b[0m\u001b[0;34m,\u001b[0m \u001b[0mindex\u001b[0m\u001b[0;34m,\u001b[0m \u001b[0mcolumns\u001b[0m\u001b[0;34m,\u001b[0m \u001b[0mdtype\u001b[0m\u001b[0;34m=\u001b[0m\u001b[0mdtype\u001b[0m\u001b[0;34m)\u001b[0m\u001b[0;34m\u001b[0m\u001b[0;34m\u001b[0m\u001b[0m\n\u001b[0m\u001b[1;32m    469\u001b[0m         \u001b[0;32melif\u001b[0m \u001b[0misinstance\u001b[0m\u001b[0;34m(\u001b[0m\u001b[0mdata\u001b[0m\u001b[0;34m,\u001b[0m \u001b[0mma\u001b[0m\u001b[0;34m.\u001b[0m\u001b[0mMaskedArray\u001b[0m\u001b[0;34m)\u001b[0m\u001b[0;34m:\u001b[0m\u001b[0;34m\u001b[0m\u001b[0;34m\u001b[0m\u001b[0m\n\u001b[1;32m    470\u001b[0m             \u001b[0;32mimport\u001b[0m \u001b[0mnumpy\u001b[0m\u001b[0;34m.\u001b[0m\u001b[0mma\u001b[0m\u001b[0;34m.\u001b[0m\u001b[0mmrecords\u001b[0m \u001b[0;32mas\u001b[0m \u001b[0mmrecords\u001b[0m\u001b[0;34m\u001b[0m\u001b[0;34m\u001b[0m\u001b[0m\n",
      "\u001b[0;32m~/.local/lib/python3.8/site-packages/pandas/core/internals/construction.py\u001b[0m in \u001b[0;36minit_dict\u001b[0;34m(data, index, columns, dtype)\u001b[0m\n\u001b[1;32m    281\u001b[0m             \u001b[0marr\u001b[0m \u001b[0;32mif\u001b[0m \u001b[0;32mnot\u001b[0m \u001b[0mis_datetime64tz_dtype\u001b[0m\u001b[0;34m(\u001b[0m\u001b[0marr\u001b[0m\u001b[0;34m)\u001b[0m \u001b[0;32melse\u001b[0m \u001b[0marr\u001b[0m\u001b[0;34m.\u001b[0m\u001b[0mcopy\u001b[0m\u001b[0;34m(\u001b[0m\u001b[0;34m)\u001b[0m \u001b[0;32mfor\u001b[0m \u001b[0marr\u001b[0m \u001b[0;32min\u001b[0m \u001b[0marrays\u001b[0m\u001b[0;34m\u001b[0m\u001b[0;34m\u001b[0m\u001b[0m\n\u001b[1;32m    282\u001b[0m         ]\n\u001b[0;32m--> 283\u001b[0;31m     \u001b[0;32mreturn\u001b[0m \u001b[0marrays_to_mgr\u001b[0m\u001b[0;34m(\u001b[0m\u001b[0marrays\u001b[0m\u001b[0;34m,\u001b[0m \u001b[0mdata_names\u001b[0m\u001b[0;34m,\u001b[0m \u001b[0mindex\u001b[0m\u001b[0;34m,\u001b[0m \u001b[0mcolumns\u001b[0m\u001b[0;34m,\u001b[0m \u001b[0mdtype\u001b[0m\u001b[0;34m=\u001b[0m\u001b[0mdtype\u001b[0m\u001b[0;34m)\u001b[0m\u001b[0;34m\u001b[0m\u001b[0;34m\u001b[0m\u001b[0m\n\u001b[0m\u001b[1;32m    284\u001b[0m \u001b[0;34m\u001b[0m\u001b[0m\n\u001b[1;32m    285\u001b[0m \u001b[0;34m\u001b[0m\u001b[0m\n",
      "\u001b[0;32m~/.local/lib/python3.8/site-packages/pandas/core/internals/construction.py\u001b[0m in \u001b[0;36marrays_to_mgr\u001b[0;34m(arrays, arr_names, index, columns, dtype, verify_integrity)\u001b[0m\n\u001b[1;32m     76\u001b[0m         \u001b[0;31m# figure out the index, if necessary\u001b[0m\u001b[0;34m\u001b[0m\u001b[0;34m\u001b[0m\u001b[0;34m\u001b[0m\u001b[0m\n\u001b[1;32m     77\u001b[0m         \u001b[0;32mif\u001b[0m \u001b[0mindex\u001b[0m \u001b[0;32mis\u001b[0m \u001b[0;32mNone\u001b[0m\u001b[0;34m:\u001b[0m\u001b[0;34m\u001b[0m\u001b[0;34m\u001b[0m\u001b[0m\n\u001b[0;32m---> 78\u001b[0;31m             \u001b[0mindex\u001b[0m \u001b[0;34m=\u001b[0m \u001b[0mextract_index\u001b[0m\u001b[0;34m(\u001b[0m\u001b[0marrays\u001b[0m\u001b[0;34m)\u001b[0m\u001b[0;34m\u001b[0m\u001b[0;34m\u001b[0m\u001b[0m\n\u001b[0m\u001b[1;32m     79\u001b[0m         \u001b[0;32melse\u001b[0m\u001b[0;34m:\u001b[0m\u001b[0;34m\u001b[0m\u001b[0;34m\u001b[0m\u001b[0m\n\u001b[1;32m     80\u001b[0m             \u001b[0mindex\u001b[0m \u001b[0;34m=\u001b[0m \u001b[0mensure_index\u001b[0m\u001b[0;34m(\u001b[0m\u001b[0mindex\u001b[0m\u001b[0;34m)\u001b[0m\u001b[0;34m\u001b[0m\u001b[0;34m\u001b[0m\u001b[0m\n",
      "\u001b[0;32m~/.local/lib/python3.8/site-packages/pandas/core/internals/construction.py\u001b[0m in \u001b[0;36mextract_index\u001b[0;34m(data)\u001b[0m\n\u001b[1;32m    395\u001b[0m             \u001b[0mlengths\u001b[0m \u001b[0;34m=\u001b[0m \u001b[0mlist\u001b[0m\u001b[0;34m(\u001b[0m\u001b[0mset\u001b[0m\u001b[0;34m(\u001b[0m\u001b[0mraw_lengths\u001b[0m\u001b[0;34m)\u001b[0m\u001b[0;34m)\u001b[0m\u001b[0;34m\u001b[0m\u001b[0;34m\u001b[0m\u001b[0m\n\u001b[1;32m    396\u001b[0m             \u001b[0;32mif\u001b[0m \u001b[0mlen\u001b[0m\u001b[0;34m(\u001b[0m\u001b[0mlengths\u001b[0m\u001b[0;34m)\u001b[0m \u001b[0;34m>\u001b[0m \u001b[0;36m1\u001b[0m\u001b[0;34m:\u001b[0m\u001b[0;34m\u001b[0m\u001b[0;34m\u001b[0m\u001b[0m\n\u001b[0;32m--> 397\u001b[0;31m                 \u001b[0;32mraise\u001b[0m \u001b[0mValueError\u001b[0m\u001b[0;34m(\u001b[0m\u001b[0;34m\"arrays must all be same length\"\u001b[0m\u001b[0;34m)\u001b[0m\u001b[0;34m\u001b[0m\u001b[0;34m\u001b[0m\u001b[0m\n\u001b[0m\u001b[1;32m    398\u001b[0m \u001b[0;34m\u001b[0m\u001b[0m\n\u001b[1;32m    399\u001b[0m             \u001b[0;32mif\u001b[0m \u001b[0mhave_dicts\u001b[0m\u001b[0;34m:\u001b[0m\u001b[0;34m\u001b[0m\u001b[0;34m\u001b[0m\u001b[0m\n",
      "\u001b[0;31mValueError\u001b[0m: arrays must all be same length"
     ]
    }
   ],
   "source": [
    "from io import StringIO\n",
    "a = pat2[0]\n",
    "h = json.dumps(a)\n",
    "l = StringIO(h)\n",
    "\n",
    "pd.read_json(l)"
   ]
  },
  {
   "cell_type": "code",
   "execution_count": 160,
   "metadata": {},
   "outputs": [
    {
     "output_type": "execute_result",
     "data": {
      "text/plain": [
       "'424441002'"
      ]
     },
     "metadata": {},
     "execution_count": 160
    }
   ],
   "source": [
    "pat2[1]['item'][0]['productOrService']['coding'][0]['code']"
   ]
  },
  {
   "cell_type": "code",
   "execution_count": 150,
   "metadata": {
    "tags": []
   },
   "outputs": [
    {
     "output_type": "stream",
     "name": "stdout",
     "text": [
      "\n"
     ]
    }
   ],
   "source": [
    "print()"
   ]
  },
  {
   "cell_type": "code",
   "execution_count": 42,
   "metadata": {},
   "outputs": [],
   "source": [
    "result = []\n",
    "for name in pat2:\n",
    "    dict = {} \n",
    "    dict['id'] = name['id']\n",
    "    dict['allergy'] = name['code']['text']\n",
    "    result.append(dict)"
   ]
  },
  {
   "cell_type": "code",
   "execution_count": 46,
   "metadata": {},
   "outputs": [
    {
     "output_type": "execute_result",
     "data": {
      "text/plain": [
       "[{'id': 'e4e9794e-93a3-4528-8272-b527f653e4b9',\n",
       "  'allergy': 'Dander (animal) allergy'},\n",
       " {'id': 'c522f480-a592-46b2-8031-8cf8448e9afd', 'allergy': 'Allergy to eggs'},\n",
       " {'id': '69472bfc-8908-43e1-a1d7-06dfec55a07f', 'allergy': 'Allergy to mould'},\n",
       " {'id': '54896ed8-b234-4719-967c-3e2cdfb2d7ff',\n",
       "  'allergy': 'Dander (animal) allergy'},\n",
       " {'id': 'cb66b5f7-2434-4ec5-9ceb-18d1c150ac65',\n",
       "  'allergy': 'Allergy to grass pollen'},\n",
       " {'id': '6ef179cf-34a8-4e28-ad76-e690720f9d7f',\n",
       "  'allergy': 'Allergy to tree pollen'},\n",
       " {'id': '57dcd0af-3eb5-4eae-b143-8b9e697bb07c', 'allergy': 'Allergy to fish'}]"
      ]
     },
     "metadata": {},
     "execution_count": 46
    }
   ],
   "source": [
    "result"
   ]
  },
  {
   "cell_type": "code",
   "execution_count": 47,
   "metadata": {},
   "outputs": [],
   "source": [
    "dict3 = {item['id']: item for item in result}"
   ]
  },
  {
   "cell_type": "code",
   "execution_count": 54,
   "metadata": {},
   "outputs": [
    {
     "output_type": "stream",
     "name": "stdout",
     "text": [
      "{'allergy': 'Dander (animal) allergy'}\n{'id': 'c522f480-a592-46b2-8031-8cf8448e9afd', 'allergy': 'Allergy to eggs'}\n{'id': '69472bfc-8908-43e1-a1d7-06dfec55a07f', 'allergy': 'Allergy to mould'}\n{'id': '54896ed8-b234-4719-967c-3e2cdfb2d7ff', 'allergy': 'Dander (animal) allergy'}\n{'id': 'cb66b5f7-2434-4ec5-9ceb-18d1c150ac65', 'allergy': 'Allergy to grass pollen'}\n{'id': '6ef179cf-34a8-4e28-ad76-e690720f9d7f', 'allergy': 'Allergy to tree pollen'}\n{'id': '57dcd0af-3eb5-4eae-b143-8b9e697bb07c', 'allergy': 'Allergy to fish'}\n"
     ]
    }
   ],
   "source": [
    "dict4 = {} \n",
    "for item in result: \n",
    "    print(item)\n",
    "    #new = item.pop('id')\n",
    "    #dict4[name] = item "
   ]
  },
  {
   "cell_type": "code",
   "execution_count": 100,
   "metadata": {},
   "outputs": [],
   "source": [
    "dict5 = {}\n",
    "id = []\n",
    "alergy = []\n",
    "for i in result: \n",
    "    #print(i)\n",
    "    for k, v in i.items(): \n",
    "        if k == 'id':\n",
    "            id.append(v)\n",
    "        else: \n",
    "            alergy.append(v)\n",
    "\n",
    "dict5['id'] =  id \n",
    "dict5['allergy'] = alergy "
   ]
  },
  {
   "cell_type": "code",
   "execution_count": 101,
   "metadata": {},
   "outputs": [
    {
     "output_type": "execute_result",
     "data": {
      "text/plain": [
       "{'id': ['c522f480-a592-46b2-8031-8cf8448e9afd',\n",
       "  '69472bfc-8908-43e1-a1d7-06dfec55a07f',\n",
       "  '54896ed8-b234-4719-967c-3e2cdfb2d7ff',\n",
       "  'cb66b5f7-2434-4ec5-9ceb-18d1c150ac65',\n",
       "  '6ef179cf-34a8-4e28-ad76-e690720f9d7f',\n",
       "  '57dcd0af-3eb5-4eae-b143-8b9e697bb07c'],\n",
       " 'allergy': ['Dander (animal) allergy',\n",
       "  'Allergy to eggs',\n",
       "  'Allergy to mould',\n",
       "  'Dander (animal) allergy',\n",
       "  'Allergy to grass pollen',\n",
       "  'Allergy to tree pollen',\n",
       "  'Allergy to fish']}"
      ]
     },
     "metadata": {},
     "execution_count": 101
    }
   ],
   "source": [
    "dict5"
   ]
  },
  {
   "cell_type": "code",
   "execution_count": 110,
   "metadata": {},
   "outputs": [
    {
     "output_type": "execute_result",
     "data": {
      "text/plain": [
       "                   allergy                                    id\n",
       "0  Dander (animal) allergy                                   NaN\n",
       "1          Allergy to eggs  c522f480-a592-46b2-8031-8cf8448e9afd\n",
       "2         Allergy to mould  69472bfc-8908-43e1-a1d7-06dfec55a07f\n",
       "3  Dander (animal) allergy  54896ed8-b234-4719-967c-3e2cdfb2d7ff\n",
       "4  Allergy to grass pollen  cb66b5f7-2434-4ec5-9ceb-18d1c150ac65\n",
       "5   Allergy to tree pollen  6ef179cf-34a8-4e28-ad76-e690720f9d7f\n",
       "6          Allergy to fish  57dcd0af-3eb5-4eae-b143-8b9e697bb07c"
      ],
      "text/html": "<div>\n<style scoped>\n    .dataframe tbody tr th:only-of-type {\n        vertical-align: middle;\n    }\n\n    .dataframe tbody tr th {\n        vertical-align: top;\n    }\n\n    .dataframe thead th {\n        text-align: right;\n    }\n</style>\n<table border=\"1\" class=\"dataframe\">\n  <thead>\n    <tr style=\"text-align: right;\">\n      <th></th>\n      <th>allergy</th>\n      <th>id</th>\n    </tr>\n  </thead>\n  <tbody>\n    <tr>\n      <th>0</th>\n      <td>Dander (animal) allergy</td>\n      <td>NaN</td>\n    </tr>\n    <tr>\n      <th>1</th>\n      <td>Allergy to eggs</td>\n      <td>c522f480-a592-46b2-8031-8cf8448e9afd</td>\n    </tr>\n    <tr>\n      <th>2</th>\n      <td>Allergy to mould</td>\n      <td>69472bfc-8908-43e1-a1d7-06dfec55a07f</td>\n    </tr>\n    <tr>\n      <th>3</th>\n      <td>Dander (animal) allergy</td>\n      <td>54896ed8-b234-4719-967c-3e2cdfb2d7ff</td>\n    </tr>\n    <tr>\n      <th>4</th>\n      <td>Allergy to grass pollen</td>\n      <td>cb66b5f7-2434-4ec5-9ceb-18d1c150ac65</td>\n    </tr>\n    <tr>\n      <th>5</th>\n      <td>Allergy to tree pollen</td>\n      <td>6ef179cf-34a8-4e28-ad76-e690720f9d7f</td>\n    </tr>\n    <tr>\n      <th>6</th>\n      <td>Allergy to fish</td>\n      <td>57dcd0af-3eb5-4eae-b143-8b9e697bb07c</td>\n    </tr>\n  </tbody>\n</table>\n</div>"
     },
     "metadata": {},
     "execution_count": 110
    }
   ],
   "source": [
    "df = pd.DataFrame(result)\n",
    "df"
   ]
  },
  {
   "cell_type": "code",
   "execution_count": 430,
   "metadata": {
    "tags": []
   },
   "outputs": [],
   "source": [
    "\n",
    "def get_patient(): \n",
    "\n",
    "\n",
    "    pat = s3.Object('1up-coding-challenge-patients', 'Patient.ndjson')\n",
    "    pat1 = pat.get()['Body'].read()\n",
    "    pat2 = ndjson.loads(pat1.decode('utf-8'))\n",
    "\n",
    "    h = input(\"Enter First Name: \")\n",
    "    v = input(\"Enter last name: \")\n",
    "\n",
    "    fnl, lnl, idl = None, None, None\n",
    "\n",
    "    for name in pat2: \n",
    "\n",
    "        if name['name'][0]['family'] == v and name['name'][0]['given'][0] == h: \n",
    "\n",
    "            fnl = name['name'][0]['given'][0]\n",
    "            lnl = name['name'][0]['family']\n",
    "            idl = name['id']    \n",
    "    \n",
    "    return fnl, lnl, idl \n",
    "\n",
    "\n"
   ]
  },
  {
   "cell_type": "code",
   "execution_count": 431,
   "metadata": {},
   "outputs": [],
   "source": [
    "fn, ln, id = get_patient()"
   ]
  },
  {
   "cell_type": "code",
   "execution_count": 439,
   "metadata": {},
   "outputs": [
    {
     "output_type": "error",
     "ename": "TypeError",
     "evalue": "'tuple' object is not callable",
     "traceback": [
      "\u001b[0;31m---------------------------------------------------------------------------\u001b[0m",
      "\u001b[0;31mTypeError\u001b[0m                                 Traceback (most recent call last)",
      "\u001b[0;32m<ipython-input-439-148e3b8f8646>\u001b[0m in \u001b[0;36m<module>\u001b[0;34m\u001b[0m\n\u001b[0;32m----> 1\u001b[0;31m \u001b[0mget_patient\u001b[0m\u001b[0;34m(\u001b[0m\u001b[0;34m)\u001b[0m\u001b[0;34m(\u001b[0m\u001b[0;36m3\u001b[0m\u001b[0;34m)\u001b[0m\u001b[0;34m\u001b[0m\u001b[0;34m\u001b[0m\u001b[0m\n\u001b[0m",
      "\u001b[0;31mTypeError\u001b[0m: 'tuple' object is not callable"
     ]
    }
   ],
   "source": [
    "get_patient()(3)"
   ]
  },
  {
   "cell_type": "code",
   "execution_count": 432,
   "metadata": {},
   "outputs": [
    {
     "output_type": "stream",
     "name": "stdout",
     "text": [
      "Cleo27 Bode78 d13874ec-22ea-46ed-a55c-1fd75ef56a58\n"
     ]
    }
   ],
   "source": [
    "print(fn, ln, id)"
   ]
  },
  {
   "cell_type": "code",
   "execution_count": 150,
   "metadata": {},
   "outputs": [
    {
     "output_type": "execute_result",
     "data": {
      "text/plain": [
       "'Bode78 Cleo27'"
      ]
     },
     "metadata": {},
     "execution_count": 150
    }
   ],
   "source": []
  },
  {
   "cell_type": "code",
   "execution_count": 151,
   "metadata": {},
   "outputs": [
    {
     "output_type": "stream",
     "name": "stdout",
     "text": [
      "YES\n"
     ]
    }
   ],
   "source": [
    "if a['name'][0]['family'] == 'Bode78' and a['name'][0]['given'][0] == 'Cleo27': \n",
    "    print('YES')\n",
    "\n",
    "else: \n",
    "    print('No')"
   ]
  },
  {
   "source": [
    "Need to ndjson library to be able to read ndjson files \n",
    "https://pypi.org/project/ndjson/\n"
   ],
   "cell_type": "markdown",
   "metadata": {}
  },
  {
   "cell_type": "code",
   "execution_count": 92,
   "metadata": {},
   "outputs": [],
   "source": [
    "buckets = list(bucket.objects.all())"
   ]
  },
  {
   "cell_type": "code",
   "execution_count": 174,
   "metadata": {},
   "outputs": [
    {
     "output_type": "stream",
     "name": "stdout",
     "text": [
      "s3.Object(bucket_name='1up-coding-challenge-patients', key='Observation.ndjson')\n"
     ]
    }
   ],
   "source": [
    "content3 = s3.Object('1up-coding-challenge-patients', 'Observation.ndjson')\n",
    "print(content3)"
   ]
  },
  {
   "cell_type": "code",
   "execution_count": 214,
   "metadata": {},
   "outputs": [],
   "source": [
    "content4 = content3.get()['Body'].read()\n",
    "json_data1 = ndjson.loads(content4.decode('utf-8'))\n"
   ]
  },
  {
   "cell_type": "code",
   "execution_count": 212,
   "metadata": {},
   "outputs": [],
   "source": [
    "idl1 = 'Patient/'+idl\n"
   ]
  },
  {
   "cell_type": "code",
   "execution_count": 241,
   "metadata": {
    "tags": []
   },
   "outputs": [],
   "source": [
    "count = {'a' : 0}\n",
    "for item in json_data1: \n",
    "    if idl in item['subject']['reference']: \n",
    "        count['a'] += 1"
   ]
  },
  {
   "cell_type": "code",
   "execution_count": 242,
   "metadata": {},
   "outputs": [
    {
     "output_type": "execute_result",
     "data": {
      "text/plain": [
       "{'a': 93}"
      ]
     },
     "metadata": {},
     "execution_count": 242
    }
   ],
   "source": [
    "count"
   ]
  },
  {
   "cell_type": "code",
   "execution_count": 323,
   "metadata": {
    "tags": []
   },
   "outputs": [
    {
     "output_type": "error",
     "ename": "KeyError",
     "evalue": "0",
     "traceback": [
      "\u001b[0;31m---------------------------------------------------------------------------\u001b[0m",
      "\u001b[0;31mKeyError\u001b[0m                                  Traceback (most recent call last)",
      "\u001b[0;32m<ipython-input-323-cdd37d15754b>\u001b[0m in \u001b[0;36m<module>\u001b[0;34m\u001b[0m\n\u001b[1;32m     17\u001b[0m             \u001b[0mnew\u001b[0m \u001b[0;34m=\u001b[0m \u001b[0mbar\u001b[0m\u001b[0;34m\u001b[0m\u001b[0;34m\u001b[0m\u001b[0m\n\u001b[1;32m     18\u001b[0m             \u001b[0;32mfor\u001b[0m \u001b[0mitem\u001b[0m \u001b[0;32min\u001b[0m \u001b[0mjson_data\u001b[0m\u001b[0;34m:\u001b[0m\u001b[0;34m\u001b[0m\u001b[0;34m\u001b[0m\u001b[0m\n\u001b[0;32m---> 19\u001b[0;31m                 \u001b[0;32mif\u001b[0m \u001b[0mitem\u001b[0m\u001b[0;34m[\u001b[0m\u001b[0;36m0\u001b[0m\u001b[0;34m]\u001b[0m\u001b[0;34m[\u001b[0m\u001b[0;34m'resourceType'\u001b[0m\u001b[0;34m]\u001b[0m \u001b[0;34m==\u001b[0m \u001b[0;34m'Provenance'\u001b[0m\u001b[0;34m:\u001b[0m\u001b[0;34m\u001b[0m\u001b[0;34m\u001b[0m\u001b[0m\n\u001b[0m\u001b[1;32m     20\u001b[0m                     \u001b[0;32mif\u001b[0m \u001b[0midl\u001b[0m \u001b[0;32min\u001b[0m \u001b[0mitem\u001b[0m\u001b[0;34m[\u001b[0m\u001b[0;36m0\u001b[0m\u001b[0;34m]\u001b[0m\u001b[0;34m[\u001b[0m\u001b[0;34m'target'\u001b[0m\u001b[0;34m]\u001b[0m\u001b[0;34m[\u001b[0m\u001b[0;36m0\u001b[0m\u001b[0;34m]\u001b[0m\u001b[0;34m:\u001b[0m\u001b[0;34m\u001b[0m\u001b[0;34m\u001b[0m\u001b[0m\n\u001b[1;32m     21\u001b[0m                         \u001b[0mls\u001b[0m\u001b[0;34m.\u001b[0m\u001b[0mappend\u001b[0m\u001b[0;34m(\u001b[0m\u001b[0mnew\u001b[0m\u001b[0;34m)\u001b[0m\u001b[0;34m\u001b[0m\u001b[0;34m\u001b[0m\u001b[0m\n",
      "\u001b[0;31mKeyError\u001b[0m: 0"
     ]
    }
   ],
   "source": [
    "d = {}\n",
    "ls = []\n",
    "for obj in bucket.objects.all(): \n",
    "    filename = []\n",
    "    filename.append(obj.key)\n",
    "\n",
    "    if obj.key != 'Patient.ndjson': \n",
    "        hl = obj.key\n",
    "\n",
    "        content = obj\n",
    "\n",
    "        content1 = content.get()['Body'].read()\n",
    "        json_data = ndjson.loads(content1.decode('utf-8'))\n",
    "\n",
    "        for item in filename: \n",
    "            bar = re.sub(\".ndjson\", '', str(item))\n",
    "            new = bar\n",
    "            for item in json_data: \n",
    "                if item[0]['resourceType'] == new:\n",
    "                    if idl in item[0]['target'][0]: \n",
    "                        ls.append(new)\n",
    "\n",
    "                for i in item: \n",
    "                    if i == 'subject': \n",
    "                        if idl in item['subject']['reference']: \n",
    "                            ls.append(new)\n",
    "                    elif i == 'patient': \n",
    "                        if idl in item['patient']['reference']: \n",
    "                            ls.append(new)\n",
    "                    elif i == 'target': \n",
    "                        if idl in item['target'][:]: \n",
    "                            ls.append(new)\n",
    "\n",
    "\n"
   ]
  },
  {
   "cell_type": "code",
   "execution_count": 388,
   "metadata": {},
   "outputs": [],
   "source": [
    "a = Counter(ls).keys()\n",
    "b = Counter(ls).values()\n",
    "print(a)\n",
    "print(b)"
   ]
  },
  {
   "cell_type": "code",
   "execution_count": 389,
   "metadata": {},
   "outputs": [
    {
     "output_type": "stream",
     "name": "stdout",
     "text": [
      "dict_keys(['CarePlan', 'CareTeam', 'Claim', 'Condition', 'DiagnosticReport', 'DocumentReference', 'Encounter', 'ExplanationOfBenefit', 'Immunization', 'Observation', 'Procedure', 'Provenance'])\ndict_values([2, 2, 8, 8, 12, 8, 8, 8, 11, 93, 5, 1])\n"
     ]
    }
   ],
   "source": [
    "print(a)\n",
    "print(b)"
   ]
  },
  {
   "cell_type": "code",
   "execution_count": 401,
   "metadata": {
    "tags": []
   },
   "outputs": [
    {
     "output_type": "execute_result",
     "data": {
      "text/plain": [
       "{'resourceType': 'SupplyDelivery',\n",
       " 'id': 'afe96e02-30f7-4623-b3f4-0b723d1c5815',\n",
       " 'status': 'completed',\n",
       " 'patient': {'reference': 'Patient/421c3eaf-f95c-47af-b8cd-f6cbcb192fad'},\n",
       " 'type': {'coding': [{'system': 'http://terminology.hl7.org/CodeSystem/supply-item-type',\n",
       "    'code': 'device',\n",
       "    'display': 'Device'}]},\n",
       " 'suppliedItem': {'quantity': {'value': 2},\n",
       "  'itemCodeableConcept': {'coding': [{'system': 'http://snomed.info/sct',\n",
       "     'code': '409534002',\n",
       "     'display': 'Disposable air-purifying respirator (physical object)'}],\n",
       "   'text': 'Disposable air-purifying respirator (physical object)'}},\n",
       " 'occurrenceDateTime': '2020-03-13T20:45:25-04:00'}"
      ]
     },
     "metadata": {},
     "execution_count": 401
    }
   ],
   "source": [
    "ls1 = []\n",
    "for obj in bucket.objects.all(): \n",
    "    filename = []\n",
    "    filename.append(obj.key)\n",
    "\n",
    "    if obj.key != 'Patient.ndjson': \n",
    "        hl = obj.key\n",
    "\n",
    "        content = obj\n",
    "\n",
    "        content1 = content.get()['Body'].read()\n",
    "        json_data = ndjson.loads(content1.decode('utf-8'))\n",
    "        ls1.append(json_data)\n",
    "\n",
    "json_data[0]"
   ]
  },
  {
   "cell_type": "code",
   "execution_count": 222,
   "metadata": {},
   "outputs": [],
   "source": [
    "import re \n",
    "\n",
    "newlist = [] \n",
    "\n",
    "for item in filename: \n",
    "    bar = re.sub(\".ndjson\", '', str(item))\n",
    "    newlist.append(bar)"
   ]
  },
  {
   "cell_type": "code",
   "execution_count": 427,
   "metadata": {
    "tags": []
   },
   "outputs": [],
   "source": [
    "for item in ls1: \n",
    "    if item[0]['resourceType'] == 'Location':\n",
    "        #print(item[0]['target'][0])\n",
    "        a = item"
   ]
  },
  {
   "cell_type": "code",
   "execution_count": 428,
   "metadata": {},
   "outputs": [
    {
     "output_type": "execute_result",
     "data": {
      "text/plain": [
       "{'resourceType': 'Location',\n",
       " 'id': '2b38f05a-19f4-4bb5-b0f7-3a7a7e3a8f28',\n",
       " 'meta': {'profile': ['http://hl7.org/fhir/us/core/StructureDefinition/us-core-location']},\n",
       " 'status': 'active',\n",
       " 'name': 'LAHEY HOSPITAL & MEDICAL CENTER, BURLINGTON',\n",
       " 'telecom': [{'system': 'phone', 'value': '7817445100'}],\n",
       " 'address': {'line': ['41 & 45 MALL ROAD'],\n",
       "  'city': 'BURLINGTON',\n",
       "  'state': 'MA',\n",
       "  'postalCode': '01803',\n",
       "  'country': 'US'},\n",
       " 'position': {'longitude': -71.201713, 'latitude': 42.503227},\n",
       " 'managingOrganization': {'reference': 'Organization/6f122869-a856-3d65-8db9-099bf4f5bbb8',\n",
       "  'display': 'LAHEY HOSPITAL & MEDICAL CENTER, BURLINGTON'}}"
      ]
     },
     "metadata": {},
     "execution_count": 428
    }
   ],
   "source": [
    "a[0]"
   ]
  },
  {
   "cell_type": "code",
   "execution_count": 435,
   "metadata": {
    "tags": []
   },
   "outputs": [],
   "source": [
    "\n",
    "def pat_info(): \n",
    "\n",
    "    ls = []\n",
    "    for obj in bucket.objects.all(): \n",
    "        filename = []\n",
    "        filename.append(obj.key)\n",
    "\n",
    "        if obj.key != 'Patient.ndjson': \n",
    "            hl = obj.key\n",
    "\n",
    "            content = obj\n",
    "\n",
    "            content1 = content.get()['Body'].read()\n",
    "            json_data = ndjson.loads(content1.decode('utf-8'))\n",
    "\n",
    "            for item in filename: \n",
    "                bar = re.sub(\".ndjson\", '', str(item))\n",
    "                new = bar\n",
    "                for item in json_data: \n",
    "                    if item['resourceType'] == new:\n",
    "                        if 'patient' in item: \n",
    "                            if id in item['patient']['reference']: \n",
    "                                ls.append(new)\n",
    "                        elif 'subject' in item: \n",
    "                            if id in item['subject']['reference']:\n",
    "                                ls.append(new)\n",
    "                        elif 'target' in item: \n",
    "                            for x in item['target']: \n",
    "                                if id in x['reference']:\n",
    "                                    ls.append(new)\n",
    "                            #if idl in item['target'][0]:\n",
    "                                #ls1.append(new)\n",
    "                        #print(item)\n",
    "                        #if idl in item[0]['target'][0]: \n",
    "                            #ls.append(new)\n",
    "    a = Counter(ls).keys()\n",
    "    b = Counter(ls).values()\n",
    "\n",
    "    final = pd.DataFrame(list(zip(a,b)), columns = ['RESOURCE_TYPE', 'COUNT'])\n",
    "    return final.sort_values(['COUNT'], ascending=False)\n",
    "    "
   ]
  },
  {
   "cell_type": "code",
   "execution_count": 436,
   "metadata": {},
   "outputs": [
    {
     "output_type": "execute_result",
     "data": {
      "text/plain": [
       "           RESOURCE_TYPE  COUNT\n",
       "9            Observation     93\n",
       "4       DiagnosticReport     12\n",
       "8           Immunization     11\n",
       "2                  Claim      8\n",
       "3              Condition      8\n",
       "5      DocumentReference      8\n",
       "6              Encounter      8\n",
       "7   ExplanationOfBenefit      8\n",
       "10             Procedure      5\n",
       "0               CarePlan      2\n",
       "1               CareTeam      2\n",
       "11            Provenance      1"
      ],
      "text/html": "<div>\n<style scoped>\n    .dataframe tbody tr th:only-of-type {\n        vertical-align: middle;\n    }\n\n    .dataframe tbody tr th {\n        vertical-align: top;\n    }\n\n    .dataframe thead th {\n        text-align: right;\n    }\n</style>\n<table border=\"1\" class=\"dataframe\">\n  <thead>\n    <tr style=\"text-align: right;\">\n      <th></th>\n      <th>RESOURCE_TYPE</th>\n      <th>COUNT</th>\n    </tr>\n  </thead>\n  <tbody>\n    <tr>\n      <th>9</th>\n      <td>Observation</td>\n      <td>93</td>\n    </tr>\n    <tr>\n      <th>4</th>\n      <td>DiagnosticReport</td>\n      <td>12</td>\n    </tr>\n    <tr>\n      <th>8</th>\n      <td>Immunization</td>\n      <td>11</td>\n    </tr>\n    <tr>\n      <th>2</th>\n      <td>Claim</td>\n      <td>8</td>\n    </tr>\n    <tr>\n      <th>3</th>\n      <td>Condition</td>\n      <td>8</td>\n    </tr>\n    <tr>\n      <th>5</th>\n      <td>DocumentReference</td>\n      <td>8</td>\n    </tr>\n    <tr>\n      <th>6</th>\n      <td>Encounter</td>\n      <td>8</td>\n    </tr>\n    <tr>\n      <th>7</th>\n      <td>ExplanationOfBenefit</td>\n      <td>8</td>\n    </tr>\n    <tr>\n      <th>10</th>\n      <td>Procedure</td>\n      <td>5</td>\n    </tr>\n    <tr>\n      <th>0</th>\n      <td>CarePlan</td>\n      <td>2</td>\n    </tr>\n    <tr>\n      <th>1</th>\n      <td>CareTeam</td>\n      <td>2</td>\n    </tr>\n    <tr>\n      <th>11</th>\n      <td>Provenance</td>\n      <td>1</td>\n    </tr>\n  </tbody>\n</table>\n</div>"
     },
     "metadata": {},
     "execution_count": 436
    }
   ],
   "source": [
    "pat_info()"
   ]
  },
  {
   "cell_type": "code",
   "execution_count": 434,
   "metadata": {},
   "outputs": [
    {
     "output_type": "stream",
     "name": "stdout",
     "text": [
      "dict_keys(['CarePlan', 'CareTeam', 'Claim', 'Condition', 'DiagnosticReport', 'DocumentReference', 'Encounter', 'ExplanationOfBenefit', 'Immunization', 'Observation', 'Procedure', 'Provenance'])\ndict_values([2, 2, 8, 8, 12, 8, 8, 8, 11, 93, 5, 1])\n"
     ]
    }
   ],
   "source": [
    "a = Counter(ls).keys()\n",
    "b = Counter(ls).values()\n",
    "print(a)\n",
    "print(b)"
   ]
  },
  {
   "cell_type": "code",
   "execution_count": 422,
   "metadata": {},
   "outputs": [
    {
     "output_type": "execute_result",
     "data": {
      "text/plain": [
       "[('CarePlan', 2),\n",
       " ('CareTeam', 2),\n",
       " ('Claim', 8),\n",
       " ('Condition', 8),\n",
       " ('DiagnosticReport', 12),\n",
       " ('DocumentReference', 8),\n",
       " ('Encounter', 8),\n",
       " ('ExplanationOfBenefit', 8),\n",
       " ('Immunization', 11),\n",
       " ('Observation', 93),\n",
       " ('Procedure', 5),\n",
       " ('Provenance', 1)]"
      ]
     },
     "metadata": {},
     "execution_count": 422
    }
   ],
   "source": [
    "list(zip(a, b))"
   ]
  },
  {
   "cell_type": "code",
   "execution_count": 426,
   "metadata": {},
   "outputs": [
    {
     "output_type": "execute_result",
     "data": {
      "text/plain": [
       "           RESOURCE_TYPE  COUNT\n",
       "9            Observation     93\n",
       "4       DiagnosticReport     12\n",
       "8           Immunization     11\n",
       "2                  Claim      8\n",
       "3              Condition      8\n",
       "5      DocumentReference      8\n",
       "6              Encounter      8\n",
       "7   ExplanationOfBenefit      8\n",
       "10             Procedure      5\n",
       "0               CarePlan      2\n",
       "1               CareTeam      2\n",
       "11            Provenance      1"
      ],
      "text/html": "<div>\n<style scoped>\n    .dataframe tbody tr th:only-of-type {\n        vertical-align: middle;\n    }\n\n    .dataframe tbody tr th {\n        vertical-align: top;\n    }\n\n    .dataframe thead th {\n        text-align: right;\n    }\n</style>\n<table border=\"1\" class=\"dataframe\">\n  <thead>\n    <tr style=\"text-align: right;\">\n      <th></th>\n      <th>RESOURCE_TYPE</th>\n      <th>COUNT</th>\n    </tr>\n  </thead>\n  <tbody>\n    <tr>\n      <th>9</th>\n      <td>Observation</td>\n      <td>93</td>\n    </tr>\n    <tr>\n      <th>4</th>\n      <td>DiagnosticReport</td>\n      <td>12</td>\n    </tr>\n    <tr>\n      <th>8</th>\n      <td>Immunization</td>\n      <td>11</td>\n    </tr>\n    <tr>\n      <th>2</th>\n      <td>Claim</td>\n      <td>8</td>\n    </tr>\n    <tr>\n      <th>3</th>\n      <td>Condition</td>\n      <td>8</td>\n    </tr>\n    <tr>\n      <th>5</th>\n      <td>DocumentReference</td>\n      <td>8</td>\n    </tr>\n    <tr>\n      <th>6</th>\n      <td>Encounter</td>\n      <td>8</td>\n    </tr>\n    <tr>\n      <th>7</th>\n      <td>ExplanationOfBenefit</td>\n      <td>8</td>\n    </tr>\n    <tr>\n      <th>10</th>\n      <td>Procedure</td>\n      <td>5</td>\n    </tr>\n    <tr>\n      <th>0</th>\n      <td>CarePlan</td>\n      <td>2</td>\n    </tr>\n    <tr>\n      <th>1</th>\n      <td>CareTeam</td>\n      <td>2</td>\n    </tr>\n    <tr>\n      <th>11</th>\n      <td>Provenance</td>\n      <td>1</td>\n    </tr>\n  </tbody>\n</table>\n</div>"
     },
     "metadata": {},
     "execution_count": 426
    }
   ],
   "source": [
    "final = pd.DataFrame(list(zip(a,b)), columns = ['RESOURCE_TYPE', 'COUNT'])\n",
    "final.sort_values(['COUNT'], ascending=False)"
   ]
  },
  {
   "cell_type": "code",
   "execution_count": 441,
   "metadata": {},
   "outputs": [
    {
     "output_type": "execute_result",
     "data": {
      "text/plain": [
       "'d13874ec-22ea-46ed-a55c-1fd75ef56a58'"
      ]
     },
     "metadata": {},
     "execution_count": 441
    }
   ],
   "source": [
    "id"
   ]
  },
  {
   "cell_type": "code",
   "execution_count": 444,
   "metadata": {},
   "outputs": [],
   "source": [
    " \n",
    "patient_id = 'd13874ec-22ea-46ed-a55c-1fd75ef56a58'\n",
    "\n",
    "def get_patient(id): \n",
    "\n",
    "\n",
    "\n",
    "\n",
    "    pat = s3.Object('1up-coding-challenge-patients', 'Patient.ndjson')\n",
    "    pat1 = pat.get()['Body'].read()\n",
    "    pat2 = ndjson.loads(pat1.decode('utf-8'))\n",
    "\n",
    "\n",
    "    fnl, lnl, idl = None, None, None\n",
    "\n",
    "    for name in pat2: \n",
    "\n",
    "        if name['id']==patient_id: \n",
    "\n",
    "            fnl = name['name'][0]['given'][0]\n",
    "            lnl = name['name'][0]['family']\n",
    "            idl = name['id']    \n",
    "    \n",
    "    return fnl, lnl, idl "
   ]
  },
  {
   "cell_type": "code",
   "execution_count": 445,
   "metadata": {},
   "outputs": [],
   "source": [
    "fn, ln, id = get_patient(patient_id)"
   ]
  },
  {
   "cell_type": "code",
   "execution_count": 446,
   "metadata": {},
   "outputs": [
    {
     "output_type": "execute_result",
     "data": {
      "text/plain": [
       "'Cleo27'"
      ]
     },
     "metadata": {},
     "execution_count": 446
    }
   ],
   "source": [
    "fn"
   ]
  },
  {
   "cell_type": "code",
   "execution_count": null,
   "metadata": {},
   "outputs": [],
   "source": []
  }
 ]
}
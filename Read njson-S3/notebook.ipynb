{
 "metadata": {
  "language_info": {
   "codemirror_mode": {
    "name": "ipython",
    "version": 3
   },
   "file_extension": ".py",
   "mimetype": "text/x-python",
   "name": "python",
   "nbconvert_exporter": "python",
   "pygments_lexer": "ipython3",
   "version": "3.8.5-final"
  },
  "orig_nbformat": 2,
  "kernelspec": {
   "name": "python3",
   "display_name": "Python 3"
  }
 },
 "nbformat": 4,
 "nbformat_minor": 2,
 "cells": [
  {
   "source": [
    "### Load Packages"
   ],
   "cell_type": "markdown",
   "metadata": {}
  },
  {
   "cell_type": "code",
   "execution_count": 229,
   "metadata": {},
   "outputs": [],
   "source": [
    "import boto3\n",
    "import pandas as pd \n",
    "import json \n",
    "import configparser \n",
    "import ndjson\n",
    "import re "
   ]
  },
  {
   "source": [
    "### Configuration\n",
    "\n",
    "For security i have made a configuration file that contains my AWS access key and secret key"
   ],
   "cell_type": "markdown",
   "metadata": {}
  },
  {
   "cell_type": "code",
   "execution_count": 6,
   "metadata": {},
   "outputs": [],
   "source": [
    "config=configparser.ConfigParser() \n",
    "config.read_file(open('config.cfg'))\n",
    "\n",
    "KEY = config.get('AWS', 'KEY')\n",
    "SECRET = config.get('AWS', 'SECRET')"
   ]
  },
  {
   "source": [
    "### Connect to the S3 Service"
   ],
   "cell_type": "markdown",
   "metadata": {}
  },
  {
   "cell_type": "code",
   "execution_count": 8,
   "metadata": {},
   "outputs": [],
   "source": [
    "s3 = boto3.resource('s3', \n",
    "    region_name = 'us-west-2', \n",
    "    aws_access_key_id = KEY, \n",
    "    aws_secret_access_key = SECRET\n",
    ")"
   ]
  },
  {
   "source": [
    "### Review the Contents of Bucket\n",
    "\n",
    "After connecting the service and accessing the bucket lets review the contents of the bucket.  "
   ],
   "cell_type": "markdown",
   "metadata": {}
  },
  {
   "cell_type": "code",
   "execution_count": 448,
   "metadata": {},
   "outputs": [
    {
     "output_type": "stream",
     "name": "stdout",
     "text": [
      "s3.ObjectSummary(bucket_name='1up-coding-challenge-patients', key='AllergyIntolerance.ndjson')\ns3.ObjectSummary(bucket_name='1up-coding-challenge-patients', key='CarePlan.ndjson')\ns3.ObjectSummary(bucket_name='1up-coding-challenge-patients', key='CareTeam.ndjson')\ns3.ObjectSummary(bucket_name='1up-coding-challenge-patients', key='Claim.ndjson')\ns3.ObjectSummary(bucket_name='1up-coding-challenge-patients', key='Condition.ndjson')\ns3.ObjectSummary(bucket_name='1up-coding-challenge-patients', key='Device.ndjson')\ns3.ObjectSummary(bucket_name='1up-coding-challenge-patients', key='DiagnosticReport.ndjson')\ns3.ObjectSummary(bucket_name='1up-coding-challenge-patients', key='DocumentReference.ndjson')\ns3.ObjectSummary(bucket_name='1up-coding-challenge-patients', key='Encounter.ndjson')\ns3.ObjectSummary(bucket_name='1up-coding-challenge-patients', key='ExplanationOfBenefit.ndjson')\ns3.ObjectSummary(bucket_name='1up-coding-challenge-patients', key='Group.ndjson')\ns3.ObjectSummary(bucket_name='1up-coding-challenge-patients', key='ImagingStudy.ndjson')\ns3.ObjectSummary(bucket_name='1up-coding-challenge-patients', key='Immunization.ndjson')\ns3.ObjectSummary(bucket_name='1up-coding-challenge-patients', key='Location.ndjson')\ns3.ObjectSummary(bucket_name='1up-coding-challenge-patients', key='Medication.ndjson')\ns3.ObjectSummary(bucket_name='1up-coding-challenge-patients', key='MedicationAdministration.ndjson')\ns3.ObjectSummary(bucket_name='1up-coding-challenge-patients', key='MedicationRequest.ndjson')\ns3.ObjectSummary(bucket_name='1up-coding-challenge-patients', key='Observation.ndjson')\ns3.ObjectSummary(bucket_name='1up-coding-challenge-patients', key='Organization.ndjson')\ns3.ObjectSummary(bucket_name='1up-coding-challenge-patients', key='Patient.ndjson')\ns3.ObjectSummary(bucket_name='1up-coding-challenge-patients', key='Practitioner.ndjson')\ns3.ObjectSummary(bucket_name='1up-coding-challenge-patients', key='PractitionerRole.ndjson')\ns3.ObjectSummary(bucket_name='1up-coding-challenge-patients', key='Procedure.ndjson')\ns3.ObjectSummary(bucket_name='1up-coding-challenge-patients', key='Provenance.ndjson')\ns3.ObjectSummary(bucket_name='1up-coding-challenge-patients', key='SupplyDelivery.ndjson')\n"
     ]
    }
   ],
   "source": [
    "bucket = s3.Bucket('1up-coding-challenge-patients')\n",
    "\n",
    "for obj in bucket.objects.all():\n",
    "    print(obj)"
   ]
  },
  {
   "cell_type": "code",
   "execution_count": 412,
   "metadata": {},
   "outputs": [
    {
     "output_type": "stream",
     "name": "stdout",
     "text": [
      "s3.Object(bucket_name='1up-coding-challenge-patients', key='Patient.ndjson')\n"
     ]
    }
   ],
   "source": [
    "pat = s3.Object('1up-coding-challenge-patients', 'Patient.ndjson')\n",
    "pat1 = pat.get()['Body'].read()\n",
    "pat2 = ndjson.loads(pat1.decode('utf-8'))"
   ]
  },
  {
   "cell_type": "code",
   "execution_count": 413,
   "metadata": {},
   "outputs": [],
   "source": [
    "pat1 = pat.get()['Body'].read()"
   ]
  },
  {
   "cell_type": "code",
   "execution_count": 451,
   "metadata": {},
   "outputs": [
    {
     "output_type": "error",
     "ename": "JSONDecodeError",
     "evalue": "Extra data: line 2 column 1 (char 3913)",
     "traceback": [
      "\u001b[0;31m---------------------------------------------------------------------------\u001b[0m",
      "\u001b[0;31mJSONDecodeError\u001b[0m                           Traceback (most recent call last)",
      "\u001b[0;32m<ipython-input-451-0409e9c8c0db>\u001b[0m in \u001b[0;36m<module>\u001b[0;34m\u001b[0m\n\u001b[0;32m----> 1\u001b[0;31m \u001b[0mpat2\u001b[0m \u001b[0;34m=\u001b[0m \u001b[0mjson\u001b[0m\u001b[0;34m.\u001b[0m\u001b[0mloads\u001b[0m\u001b[0;34m(\u001b[0m\u001b[0mpat1\u001b[0m\u001b[0;34m.\u001b[0m\u001b[0mdecode\u001b[0m\u001b[0;34m(\u001b[0m\u001b[0;34m'utf-8'\u001b[0m\u001b[0;34m)\u001b[0m\u001b[0;34m)\u001b[0m\u001b[0;34m\u001b[0m\u001b[0;34m\u001b[0m\u001b[0m\n\u001b[0m",
      "\u001b[0;32m/usr/lib/python3.8/json/__init__.py\u001b[0m in \u001b[0;36mloads\u001b[0;34m(s, cls, object_hook, parse_float, parse_int, parse_constant, object_pairs_hook, **kw)\u001b[0m\n\u001b[1;32m    355\u001b[0m             \u001b[0mparse_int\u001b[0m \u001b[0;32mis\u001b[0m \u001b[0;32mNone\u001b[0m \u001b[0;32mand\u001b[0m \u001b[0mparse_float\u001b[0m \u001b[0;32mis\u001b[0m \u001b[0;32mNone\u001b[0m \u001b[0;32mand\u001b[0m\u001b[0;34m\u001b[0m\u001b[0;34m\u001b[0m\u001b[0m\n\u001b[1;32m    356\u001b[0m             parse_constant is None and object_pairs_hook is None and not kw):\n\u001b[0;32m--> 357\u001b[0;31m         \u001b[0;32mreturn\u001b[0m \u001b[0m_default_decoder\u001b[0m\u001b[0;34m.\u001b[0m\u001b[0mdecode\u001b[0m\u001b[0;34m(\u001b[0m\u001b[0ms\u001b[0m\u001b[0;34m)\u001b[0m\u001b[0;34m\u001b[0m\u001b[0;34m\u001b[0m\u001b[0m\n\u001b[0m\u001b[1;32m    358\u001b[0m     \u001b[0;32mif\u001b[0m \u001b[0mcls\u001b[0m \u001b[0;32mis\u001b[0m \u001b[0;32mNone\u001b[0m\u001b[0;34m:\u001b[0m\u001b[0;34m\u001b[0m\u001b[0;34m\u001b[0m\u001b[0m\n\u001b[1;32m    359\u001b[0m         \u001b[0mcls\u001b[0m \u001b[0;34m=\u001b[0m \u001b[0mJSONDecoder\u001b[0m\u001b[0;34m\u001b[0m\u001b[0;34m\u001b[0m\u001b[0m\n",
      "\u001b[0;32m/usr/lib/python3.8/json/decoder.py\u001b[0m in \u001b[0;36mdecode\u001b[0;34m(self, s, _w)\u001b[0m\n\u001b[1;32m    338\u001b[0m         \u001b[0mend\u001b[0m \u001b[0;34m=\u001b[0m \u001b[0m_w\u001b[0m\u001b[0;34m(\u001b[0m\u001b[0ms\u001b[0m\u001b[0;34m,\u001b[0m \u001b[0mend\u001b[0m\u001b[0;34m)\u001b[0m\u001b[0;34m.\u001b[0m\u001b[0mend\u001b[0m\u001b[0;34m(\u001b[0m\u001b[0;34m)\u001b[0m\u001b[0;34m\u001b[0m\u001b[0;34m\u001b[0m\u001b[0m\n\u001b[1;32m    339\u001b[0m         \u001b[0;32mif\u001b[0m \u001b[0mend\u001b[0m \u001b[0;34m!=\u001b[0m \u001b[0mlen\u001b[0m\u001b[0;34m(\u001b[0m\u001b[0ms\u001b[0m\u001b[0;34m)\u001b[0m\u001b[0;34m:\u001b[0m\u001b[0;34m\u001b[0m\u001b[0;34m\u001b[0m\u001b[0m\n\u001b[0;32m--> 340\u001b[0;31m             \u001b[0;32mraise\u001b[0m \u001b[0mJSONDecodeError\u001b[0m\u001b[0;34m(\u001b[0m\u001b[0;34m\"Extra data\"\u001b[0m\u001b[0;34m,\u001b[0m \u001b[0ms\u001b[0m\u001b[0;34m,\u001b[0m \u001b[0mend\u001b[0m\u001b[0;34m)\u001b[0m\u001b[0;34m\u001b[0m\u001b[0;34m\u001b[0m\u001b[0m\n\u001b[0m\u001b[1;32m    341\u001b[0m         \u001b[0;32mreturn\u001b[0m \u001b[0mobj\u001b[0m\u001b[0;34m\u001b[0m\u001b[0;34m\u001b[0m\u001b[0m\n\u001b[1;32m    342\u001b[0m \u001b[0;34m\u001b[0m\u001b[0m\n",
      "\u001b[0;31mJSONDecodeError\u001b[0m: Extra data: line 2 column 1 (char 3913)"
     ]
    }
   ],
   "source": [
    "pat2 = json.loads(pat1.decode('utf-8'))"
   ]
  },
  {
   "cell_type": "code",
   "execution_count": 447,
   "metadata": {
    "tags": []
   },
   "outputs": [
    {
     "output_type": "execute_result",
     "data": {
      "text/plain": [
       "{'resourceType': 'Patient',\n",
       " 'id': 'ebf9231d-6a1f-432a-90c2-bc1b340ae047',\n",
       " 'meta': {'profile': ['http://standardhealthrecord.org/fhir/StructureDefinition/shr-entity-Patient']},\n",
       " 'text': {'status': 'generated',\n",
       "  'div': '<div xmlns=\"http://www.w3.org/1999/xhtml\">Generated by <a href=\"https://github.com/synthetichealth/synthea\">Synthea</a>.Version identifier: v2.5.0-409-g6a2d5846\\n .   Person seed: 8987220997374458426  Population seed: 123456789</div>'},\n",
       " 'extension': [{'url': 'http://hl7.org/fhir/us/core/StructureDefinition/us-core-race',\n",
       "   'extension': [{'url': 'ombCategory',\n",
       "     'valueCoding': {'system': 'urn:oid:2.16.840.1.113883.6.238',\n",
       "      'code': '2106-3',\n",
       "      'display': 'White'}},\n",
       "    {'url': 'text', 'valueString': 'White'}]},\n",
       "  {'url': 'http://hl7.org/fhir/us/core/StructureDefinition/us-core-ethnicity',\n",
       "   'extension': [{'url': 'ombCategory',\n",
       "     'valueCoding': {'system': 'urn:oid:2.16.840.1.113883.6.238',\n",
       "      'code': '2186-5',\n",
       "      'display': 'Not Hispanic or Latino'}},\n",
       "    {'url': 'text', 'valueString': 'Not Hispanic or Latino'}]},\n",
       "  {'url': 'http://hl7.org/fhir/StructureDefinition/patient-mothersMaidenName',\n",
       "   'valueString': 'Anita473 Bauch723'},\n",
       "  {'url': 'http://hl7.org/fhir/us/core/StructureDefinition/us-core-birthsex',\n",
       "   'valueCode': 'M'},\n",
       "  {'url': 'http://hl7.org/fhir/StructureDefinition/patient-birthPlace',\n",
       "   'valueAddress': {'city': 'Moscow', 'state': 'Moscow', 'country': 'RU'}},\n",
       "  {'url': 'http://standardhealthrecord.org/fhir/StructureDefinition/shr-actor-FictionalPerson-extension',\n",
       "   'valueBoolean': True},\n",
       "  {'url': 'http://standardhealthrecord.org/fhir/StructureDefinition/shr-entity-FathersName-extension',\n",
       "   'valueHumanName': {'text': 'Gregg522 Treutel973'}},\n",
       "  {'url': 'http://standardhealthrecord.org/fhir/StructureDefinition/shr-demographics-SocialSecurityNumber-extension',\n",
       "   'valueString': '999-92-5473'},\n",
       "  {'url': 'http://synthetichealth.github.io/synthea/disability-adjusted-life-years',\n",
       "   'valueDecimal': 0.0},\n",
       "  {'url': 'http://synthetichealth.github.io/synthea/quality-adjusted-life-years',\n",
       "   'valueDecimal': 9.0}],\n",
       " 'identifier': [{'system': 'https://github.com/synthetichealth/synthea',\n",
       "   'value': 'ebf9231d-6a1f-432a-90c2-bc1b340ae047'},\n",
       "  {'type': {'coding': [{'system': 'http://terminology.hl7.org/CodeSystem/v2-0203',\n",
       "      'code': 'MR',\n",
       "      'display': 'Medical Record Number'}],\n",
       "    'text': 'Medical Record Number'},\n",
       "   'system': 'http://hospital.smarthealthit.org',\n",
       "   'value': 'ebf9231d-6a1f-432a-90c2-bc1b340ae047'},\n",
       "  {'type': {'coding': [{'system': 'http://terminology.hl7.org/CodeSystem/v2-0203',\n",
       "      'code': 'SS',\n",
       "      'display': 'Social Security Number'}],\n",
       "    'text': 'Social Security Number'},\n",
       "   'system': 'http://hl7.org/fhir/sid/us-ssn',\n",
       "   'value': '999-92-5473'}],\n",
       " 'name': [{'use': 'official',\n",
       "   'family': 'Treutel973',\n",
       "   'given': ['Mohamed943']}],\n",
       " 'telecom': [{'system': 'phone', 'value': '555-523-4673', 'use': 'home'}],\n",
       " 'gender': 'male',\n",
       " 'birthDate': '2010-03-04',\n",
       " 'address': [{'extension': [{'url': 'http://hl7.org/fhir/StructureDefinition/geolocation',\n",
       "     'extension': [{'url': 'latitude', 'valueDecimal': 41.761195301149336},\n",
       "      {'url': 'longitude', 'valueDecimal': -70.66095565333276}]}],\n",
       "   'line': ['422 Auer Manor'],\n",
       "   'city': 'Wareham',\n",
       "   'state': 'MA',\n",
       "   'country': 'US'}],\n",
       " 'maritalStatus': {'coding': [{'system': 'http://terminology.hl7.org/CodeSystem/v3-MaritalStatus',\n",
       "    'code': 'S',\n",
       "    'display': 'Never Married'}],\n",
       "  'text': 'Never Married'},\n",
       " 'multipleBirthBoolean': False,\n",
       " 'communication': [{'language': {'coding': [{'system': 'urn:ietf:bcp:47',\n",
       "      'code': 'ru-RU',\n",
       "      'display': 'Russian (Russia)'}],\n",
       "    'text': 'Russian (Russia)'}}]}"
      ]
     },
     "metadata": {},
     "execution_count": 447
    }
   ],
   "source": [
    "pat2[1]"
   ]
  },
  {
   "cell_type": "code",
   "execution_count": 430,
   "metadata": {
    "tags": []
   },
   "outputs": [],
   "source": [
    "\n",
    "def get_patient(): \n",
    "\n",
    "\n",
    "    pat = s3.Object('1up-coding-challenge-patients', 'Patient.ndjson')\n",
    "    pat1 = pat.get()['Body'].read()\n",
    "    pat2 = ndjson.loads(pat1.decode('utf-8'))\n",
    "\n",
    "    h = input(\"Enter First Name: \")\n",
    "    v = input(\"Enter last name: \")\n",
    "\n",
    "    fnl, lnl, idl = None, None, None\n",
    "\n",
    "    for name in pat2: \n",
    "\n",
    "        if name['name'][0]['family'] == v and name['name'][0]['given'][0] == h: \n",
    "\n",
    "            fnl = name['name'][0]['given'][0]\n",
    "            lnl = name['name'][0]['family']\n",
    "            idl = name['id']    \n",
    "    \n",
    "    return fnl, lnl, idl \n",
    "\n",
    "\n"
   ]
  },
  {
   "cell_type": "code",
   "execution_count": 431,
   "metadata": {},
   "outputs": [],
   "source": [
    "fn, ln, id = get_patient()"
   ]
  },
  {
   "cell_type": "code",
   "execution_count": 439,
   "metadata": {},
   "outputs": [
    {
     "output_type": "error",
     "ename": "TypeError",
     "evalue": "'tuple' object is not callable",
     "traceback": [
      "\u001b[0;31m---------------------------------------------------------------------------\u001b[0m",
      "\u001b[0;31mTypeError\u001b[0m                                 Traceback (most recent call last)",
      "\u001b[0;32m<ipython-input-439-148e3b8f8646>\u001b[0m in \u001b[0;36m<module>\u001b[0;34m\u001b[0m\n\u001b[0;32m----> 1\u001b[0;31m \u001b[0mget_patient\u001b[0m\u001b[0;34m(\u001b[0m\u001b[0;34m)\u001b[0m\u001b[0;34m(\u001b[0m\u001b[0;36m3\u001b[0m\u001b[0;34m)\u001b[0m\u001b[0;34m\u001b[0m\u001b[0;34m\u001b[0m\u001b[0m\n\u001b[0m",
      "\u001b[0;31mTypeError\u001b[0m: 'tuple' object is not callable"
     ]
    }
   ],
   "source": [
    "get_patient()(3)"
   ]
  },
  {
   "cell_type": "code",
   "execution_count": 432,
   "metadata": {},
   "outputs": [
    {
     "output_type": "stream",
     "name": "stdout",
     "text": [
      "Cleo27 Bode78 d13874ec-22ea-46ed-a55c-1fd75ef56a58\n"
     ]
    }
   ],
   "source": [
    "print(fn, ln, id)"
   ]
  },
  {
   "cell_type": "code",
   "execution_count": 150,
   "metadata": {},
   "outputs": [
    {
     "output_type": "execute_result",
     "data": {
      "text/plain": [
       "'Bode78 Cleo27'"
      ]
     },
     "metadata": {},
     "execution_count": 150
    }
   ],
   "source": []
  },
  {
   "cell_type": "code",
   "execution_count": 151,
   "metadata": {},
   "outputs": [
    {
     "output_type": "stream",
     "name": "stdout",
     "text": [
      "YES\n"
     ]
    }
   ],
   "source": [
    "if a['name'][0]['family'] == 'Bode78' and a['name'][0]['given'][0] == 'Cleo27': \n",
    "    print('YES')\n",
    "\n",
    "else: \n",
    "    print('No')"
   ]
  },
  {
   "source": [
    "Need to ndjson library to be able to read ndjson files \n",
    "https://pypi.org/project/ndjson/\n"
   ],
   "cell_type": "markdown",
   "metadata": {}
  },
  {
   "cell_type": "code",
   "execution_count": 92,
   "metadata": {},
   "outputs": [],
   "source": [
    "buckets = list(bucket.objects.all())"
   ]
  },
  {
   "cell_type": "code",
   "execution_count": 174,
   "metadata": {},
   "outputs": [
    {
     "output_type": "stream",
     "name": "stdout",
     "text": [
      "s3.Object(bucket_name='1up-coding-challenge-patients', key='Observation.ndjson')\n"
     ]
    }
   ],
   "source": [
    "content3 = s3.Object('1up-coding-challenge-patients', 'Observation.ndjson')\n",
    "print(content3)"
   ]
  },
  {
   "cell_type": "code",
   "execution_count": 214,
   "metadata": {},
   "outputs": [],
   "source": [
    "content4 = content3.get()['Body'].read()\n",
    "json_data1 = ndjson.loads(content4.decode('utf-8'))\n"
   ]
  },
  {
   "cell_type": "code",
   "execution_count": 212,
   "metadata": {},
   "outputs": [],
   "source": [
    "idl1 = 'Patient/'+idl\n"
   ]
  },
  {
   "cell_type": "code",
   "execution_count": 241,
   "metadata": {
    "tags": []
   },
   "outputs": [],
   "source": [
    "count = {'a' : 0}\n",
    "for item in json_data1: \n",
    "    if idl in item['subject']['reference']: \n",
    "        count['a'] += 1"
   ]
  },
  {
   "cell_type": "code",
   "execution_count": 242,
   "metadata": {},
   "outputs": [
    {
     "output_type": "execute_result",
     "data": {
      "text/plain": [
       "{'a': 93}"
      ]
     },
     "metadata": {},
     "execution_count": 242
    }
   ],
   "source": [
    "count"
   ]
  },
  {
   "cell_type": "code",
   "execution_count": 323,
   "metadata": {
    "tags": []
   },
   "outputs": [
    {
     "output_type": "error",
     "ename": "KeyError",
     "evalue": "0",
     "traceback": [
      "\u001b[0;31m---------------------------------------------------------------------------\u001b[0m",
      "\u001b[0;31mKeyError\u001b[0m                                  Traceback (most recent call last)",
      "\u001b[0;32m<ipython-input-323-cdd37d15754b>\u001b[0m in \u001b[0;36m<module>\u001b[0;34m\u001b[0m\n\u001b[1;32m     17\u001b[0m             \u001b[0mnew\u001b[0m \u001b[0;34m=\u001b[0m \u001b[0mbar\u001b[0m\u001b[0;34m\u001b[0m\u001b[0;34m\u001b[0m\u001b[0m\n\u001b[1;32m     18\u001b[0m             \u001b[0;32mfor\u001b[0m \u001b[0mitem\u001b[0m \u001b[0;32min\u001b[0m \u001b[0mjson_data\u001b[0m\u001b[0;34m:\u001b[0m\u001b[0;34m\u001b[0m\u001b[0;34m\u001b[0m\u001b[0m\n\u001b[0;32m---> 19\u001b[0;31m                 \u001b[0;32mif\u001b[0m \u001b[0mitem\u001b[0m\u001b[0;34m[\u001b[0m\u001b[0;36m0\u001b[0m\u001b[0;34m]\u001b[0m\u001b[0;34m[\u001b[0m\u001b[0;34m'resourceType'\u001b[0m\u001b[0;34m]\u001b[0m \u001b[0;34m==\u001b[0m \u001b[0;34m'Provenance'\u001b[0m\u001b[0;34m:\u001b[0m\u001b[0;34m\u001b[0m\u001b[0;34m\u001b[0m\u001b[0m\n\u001b[0m\u001b[1;32m     20\u001b[0m                     \u001b[0;32mif\u001b[0m \u001b[0midl\u001b[0m \u001b[0;32min\u001b[0m \u001b[0mitem\u001b[0m\u001b[0;34m[\u001b[0m\u001b[0;36m0\u001b[0m\u001b[0;34m]\u001b[0m\u001b[0;34m[\u001b[0m\u001b[0;34m'target'\u001b[0m\u001b[0;34m]\u001b[0m\u001b[0;34m[\u001b[0m\u001b[0;36m0\u001b[0m\u001b[0;34m]\u001b[0m\u001b[0;34m:\u001b[0m\u001b[0;34m\u001b[0m\u001b[0;34m\u001b[0m\u001b[0m\n\u001b[1;32m     21\u001b[0m                         \u001b[0mls\u001b[0m\u001b[0;34m.\u001b[0m\u001b[0mappend\u001b[0m\u001b[0;34m(\u001b[0m\u001b[0mnew\u001b[0m\u001b[0;34m)\u001b[0m\u001b[0;34m\u001b[0m\u001b[0;34m\u001b[0m\u001b[0m\n",
      "\u001b[0;31mKeyError\u001b[0m: 0"
     ]
    }
   ],
   "source": [
    "d = {}\n",
    "ls = []\n",
    "for obj in bucket.objects.all(): \n",
    "    filename = []\n",
    "    filename.append(obj.key)\n",
    "\n",
    "    if obj.key != 'Patient.ndjson': \n",
    "        hl = obj.key\n",
    "\n",
    "        content = obj\n",
    "\n",
    "        content1 = content.get()['Body'].read()\n",
    "        json_data = ndjson.loads(content1.decode('utf-8'))\n",
    "\n",
    "        for item in filename: \n",
    "            bar = re.sub(\".ndjson\", '', str(item))\n",
    "            new = bar\n",
    "            for item in json_data: \n",
    "                if item[0]['resourceType'] == new:\n",
    "                    if idl in item[0]['target'][0]: \n",
    "                        ls.append(new)\n",
    "\n",
    "                for i in item: \n",
    "                    if i == 'subject': \n",
    "                        if idl in item['subject']['reference']: \n",
    "                            ls.append(new)\n",
    "                    elif i == 'patient': \n",
    "                        if idl in item['patient']['reference']: \n",
    "                            ls.append(new)\n",
    "                    elif i == 'target': \n",
    "                        if idl in item['target'][:]: \n",
    "                            ls.append(new)\n",
    "\n",
    "\n"
   ]
  },
  {
   "cell_type": "code",
   "execution_count": 388,
   "metadata": {},
   "outputs": [],
   "source": [
    "a = Counter(ls).keys()\n",
    "b = Counter(ls).values()\n",
    "print(a)\n",
    "print(b)"
   ]
  },
  {
   "cell_type": "code",
   "execution_count": 389,
   "metadata": {},
   "outputs": [
    {
     "output_type": "stream",
     "name": "stdout",
     "text": [
      "dict_keys(['CarePlan', 'CareTeam', 'Claim', 'Condition', 'DiagnosticReport', 'DocumentReference', 'Encounter', 'ExplanationOfBenefit', 'Immunization', 'Observation', 'Procedure', 'Provenance'])\ndict_values([2, 2, 8, 8, 12, 8, 8, 8, 11, 93, 5, 1])\n"
     ]
    }
   ],
   "source": [
    "print(a)\n",
    "print(b)"
   ]
  },
  {
   "cell_type": "code",
   "execution_count": 401,
   "metadata": {
    "tags": []
   },
   "outputs": [
    {
     "output_type": "execute_result",
     "data": {
      "text/plain": [
       "{'resourceType': 'SupplyDelivery',\n",
       " 'id': 'afe96e02-30f7-4623-b3f4-0b723d1c5815',\n",
       " 'status': 'completed',\n",
       " 'patient': {'reference': 'Patient/421c3eaf-f95c-47af-b8cd-f6cbcb192fad'},\n",
       " 'type': {'coding': [{'system': 'http://terminology.hl7.org/CodeSystem/supply-item-type',\n",
       "    'code': 'device',\n",
       "    'display': 'Device'}]},\n",
       " 'suppliedItem': {'quantity': {'value': 2},\n",
       "  'itemCodeableConcept': {'coding': [{'system': 'http://snomed.info/sct',\n",
       "     'code': '409534002',\n",
       "     'display': 'Disposable air-purifying respirator (physical object)'}],\n",
       "   'text': 'Disposable air-purifying respirator (physical object)'}},\n",
       " 'occurrenceDateTime': '2020-03-13T20:45:25-04:00'}"
      ]
     },
     "metadata": {},
     "execution_count": 401
    }
   ],
   "source": [
    "ls1 = []\n",
    "for obj in bucket.objects.all(): \n",
    "    filename = []\n",
    "    filename.append(obj.key)\n",
    "\n",
    "    if obj.key != 'Patient.ndjson': \n",
    "        hl = obj.key\n",
    "\n",
    "        content = obj\n",
    "\n",
    "        content1 = content.get()['Body'].read()\n",
    "        json_data = ndjson.loads(content1.decode('utf-8'))\n",
    "        ls1.append(json_data)\n",
    "\n",
    "json_data[0]"
   ]
  },
  {
   "cell_type": "code",
   "execution_count": 222,
   "metadata": {},
   "outputs": [],
   "source": [
    "import re \n",
    "\n",
    "newlist = [] \n",
    "\n",
    "for item in filename: \n",
    "    bar = re.sub(\".ndjson\", '', str(item))\n",
    "    newlist.append(bar)"
   ]
  },
  {
   "cell_type": "code",
   "execution_count": 427,
   "metadata": {
    "tags": []
   },
   "outputs": [],
   "source": [
    "for item in ls1: \n",
    "    if item[0]['resourceType'] == 'Location':\n",
    "        #print(item[0]['target'][0])\n",
    "        a = item"
   ]
  },
  {
   "cell_type": "code",
   "execution_count": 428,
   "metadata": {},
   "outputs": [
    {
     "output_type": "execute_result",
     "data": {
      "text/plain": [
       "{'resourceType': 'Location',\n",
       " 'id': '2b38f05a-19f4-4bb5-b0f7-3a7a7e3a8f28',\n",
       " 'meta': {'profile': ['http://hl7.org/fhir/us/core/StructureDefinition/us-core-location']},\n",
       " 'status': 'active',\n",
       " 'name': 'LAHEY HOSPITAL & MEDICAL CENTER, BURLINGTON',\n",
       " 'telecom': [{'system': 'phone', 'value': '7817445100'}],\n",
       " 'address': {'line': ['41 & 45 MALL ROAD'],\n",
       "  'city': 'BURLINGTON',\n",
       "  'state': 'MA',\n",
       "  'postalCode': '01803',\n",
       "  'country': 'US'},\n",
       " 'position': {'longitude': -71.201713, 'latitude': 42.503227},\n",
       " 'managingOrganization': {'reference': 'Organization/6f122869-a856-3d65-8db9-099bf4f5bbb8',\n",
       "  'display': 'LAHEY HOSPITAL & MEDICAL CENTER, BURLINGTON'}}"
      ]
     },
     "metadata": {},
     "execution_count": 428
    }
   ],
   "source": [
    "a[0]"
   ]
  },
  {
   "cell_type": "code",
   "execution_count": 435,
   "metadata": {
    "tags": []
   },
   "outputs": [],
   "source": [
    "\n",
    "def pat_info(): \n",
    "\n",
    "    ls = []\n",
    "    for obj in bucket.objects.all(): \n",
    "        filename = []\n",
    "        filename.append(obj.key)\n",
    "\n",
    "        if obj.key != 'Patient.ndjson': \n",
    "            hl = obj.key\n",
    "\n",
    "            content = obj\n",
    "\n",
    "            content1 = content.get()['Body'].read()\n",
    "            json_data = ndjson.loads(content1.decode('utf-8'))\n",
    "\n",
    "            for item in filename: \n",
    "                bar = re.sub(\".ndjson\", '', str(item))\n",
    "                new = bar\n",
    "                for item in json_data: \n",
    "                    if item['resourceType'] == new:\n",
    "                        if 'patient' in item: \n",
    "                            if id in item['patient']['reference']: \n",
    "                                ls.append(new)\n",
    "                        elif 'subject' in item: \n",
    "                            if id in item['subject']['reference']:\n",
    "                                ls.append(new)\n",
    "                        elif 'target' in item: \n",
    "                            for x in item['target']: \n",
    "                                if id in x['reference']:\n",
    "                                    ls.append(new)\n",
    "                            #if idl in item['target'][0]:\n",
    "                                #ls1.append(new)\n",
    "                        #print(item)\n",
    "                        #if idl in item[0]['target'][0]: \n",
    "                            #ls.append(new)\n",
    "    a = Counter(ls).keys()\n",
    "    b = Counter(ls).values()\n",
    "\n",
    "    final = pd.DataFrame(list(zip(a,b)), columns = ['RESOURCE_TYPE', 'COUNT'])\n",
    "    return final.sort_values(['COUNT'], ascending=False)\n",
    "    "
   ]
  },
  {
   "cell_type": "code",
   "execution_count": 436,
   "metadata": {},
   "outputs": [
    {
     "output_type": "execute_result",
     "data": {
      "text/plain": [
       "           RESOURCE_TYPE  COUNT\n",
       "9            Observation     93\n",
       "4       DiagnosticReport     12\n",
       "8           Immunization     11\n",
       "2                  Claim      8\n",
       "3              Condition      8\n",
       "5      DocumentReference      8\n",
       "6              Encounter      8\n",
       "7   ExplanationOfBenefit      8\n",
       "10             Procedure      5\n",
       "0               CarePlan      2\n",
       "1               CareTeam      2\n",
       "11            Provenance      1"
      ],
      "text/html": "<div>\n<style scoped>\n    .dataframe tbody tr th:only-of-type {\n        vertical-align: middle;\n    }\n\n    .dataframe tbody tr th {\n        vertical-align: top;\n    }\n\n    .dataframe thead th {\n        text-align: right;\n    }\n</style>\n<table border=\"1\" class=\"dataframe\">\n  <thead>\n    <tr style=\"text-align: right;\">\n      <th></th>\n      <th>RESOURCE_TYPE</th>\n      <th>COUNT</th>\n    </tr>\n  </thead>\n  <tbody>\n    <tr>\n      <th>9</th>\n      <td>Observation</td>\n      <td>93</td>\n    </tr>\n    <tr>\n      <th>4</th>\n      <td>DiagnosticReport</td>\n      <td>12</td>\n    </tr>\n    <tr>\n      <th>8</th>\n      <td>Immunization</td>\n      <td>11</td>\n    </tr>\n    <tr>\n      <th>2</th>\n      <td>Claim</td>\n      <td>8</td>\n    </tr>\n    <tr>\n      <th>3</th>\n      <td>Condition</td>\n      <td>8</td>\n    </tr>\n    <tr>\n      <th>5</th>\n      <td>DocumentReference</td>\n      <td>8</td>\n    </tr>\n    <tr>\n      <th>6</th>\n      <td>Encounter</td>\n      <td>8</td>\n    </tr>\n    <tr>\n      <th>7</th>\n      <td>ExplanationOfBenefit</td>\n      <td>8</td>\n    </tr>\n    <tr>\n      <th>10</th>\n      <td>Procedure</td>\n      <td>5</td>\n    </tr>\n    <tr>\n      <th>0</th>\n      <td>CarePlan</td>\n      <td>2</td>\n    </tr>\n    <tr>\n      <th>1</th>\n      <td>CareTeam</td>\n      <td>2</td>\n    </tr>\n    <tr>\n      <th>11</th>\n      <td>Provenance</td>\n      <td>1</td>\n    </tr>\n  </tbody>\n</table>\n</div>"
     },
     "metadata": {},
     "execution_count": 436
    }
   ],
   "source": [
    "pat_info()"
   ]
  },
  {
   "cell_type": "code",
   "execution_count": 434,
   "metadata": {},
   "outputs": [
    {
     "output_type": "stream",
     "name": "stdout",
     "text": [
      "dict_keys(['CarePlan', 'CareTeam', 'Claim', 'Condition', 'DiagnosticReport', 'DocumentReference', 'Encounter', 'ExplanationOfBenefit', 'Immunization', 'Observation', 'Procedure', 'Provenance'])\ndict_values([2, 2, 8, 8, 12, 8, 8, 8, 11, 93, 5, 1])\n"
     ]
    }
   ],
   "source": [
    "a = Counter(ls).keys()\n",
    "b = Counter(ls).values()\n",
    "print(a)\n",
    "print(b)"
   ]
  },
  {
   "cell_type": "code",
   "execution_count": 422,
   "metadata": {},
   "outputs": [
    {
     "output_type": "execute_result",
     "data": {
      "text/plain": [
       "[('CarePlan', 2),\n",
       " ('CareTeam', 2),\n",
       " ('Claim', 8),\n",
       " ('Condition', 8),\n",
       " ('DiagnosticReport', 12),\n",
       " ('DocumentReference', 8),\n",
       " ('Encounter', 8),\n",
       " ('ExplanationOfBenefit', 8),\n",
       " ('Immunization', 11),\n",
       " ('Observation', 93),\n",
       " ('Procedure', 5),\n",
       " ('Provenance', 1)]"
      ]
     },
     "metadata": {},
     "execution_count": 422
    }
   ],
   "source": [
    "list(zip(a, b))"
   ]
  },
  {
   "cell_type": "code",
   "execution_count": 426,
   "metadata": {},
   "outputs": [
    {
     "output_type": "execute_result",
     "data": {
      "text/plain": [
       "           RESOURCE_TYPE  COUNT\n",
       "9            Observation     93\n",
       "4       DiagnosticReport     12\n",
       "8           Immunization     11\n",
       "2                  Claim      8\n",
       "3              Condition      8\n",
       "5      DocumentReference      8\n",
       "6              Encounter      8\n",
       "7   ExplanationOfBenefit      8\n",
       "10             Procedure      5\n",
       "0               CarePlan      2\n",
       "1               CareTeam      2\n",
       "11            Provenance      1"
      ],
      "text/html": "<div>\n<style scoped>\n    .dataframe tbody tr th:only-of-type {\n        vertical-align: middle;\n    }\n\n    .dataframe tbody tr th {\n        vertical-align: top;\n    }\n\n    .dataframe thead th {\n        text-align: right;\n    }\n</style>\n<table border=\"1\" class=\"dataframe\">\n  <thead>\n    <tr style=\"text-align: right;\">\n      <th></th>\n      <th>RESOURCE_TYPE</th>\n      <th>COUNT</th>\n    </tr>\n  </thead>\n  <tbody>\n    <tr>\n      <th>9</th>\n      <td>Observation</td>\n      <td>93</td>\n    </tr>\n    <tr>\n      <th>4</th>\n      <td>DiagnosticReport</td>\n      <td>12</td>\n    </tr>\n    <tr>\n      <th>8</th>\n      <td>Immunization</td>\n      <td>11</td>\n    </tr>\n    <tr>\n      <th>2</th>\n      <td>Claim</td>\n      <td>8</td>\n    </tr>\n    <tr>\n      <th>3</th>\n      <td>Condition</td>\n      <td>8</td>\n    </tr>\n    <tr>\n      <th>5</th>\n      <td>DocumentReference</td>\n      <td>8</td>\n    </tr>\n    <tr>\n      <th>6</th>\n      <td>Encounter</td>\n      <td>8</td>\n    </tr>\n    <tr>\n      <th>7</th>\n      <td>ExplanationOfBenefit</td>\n      <td>8</td>\n    </tr>\n    <tr>\n      <th>10</th>\n      <td>Procedure</td>\n      <td>5</td>\n    </tr>\n    <tr>\n      <th>0</th>\n      <td>CarePlan</td>\n      <td>2</td>\n    </tr>\n    <tr>\n      <th>1</th>\n      <td>CareTeam</td>\n      <td>2</td>\n    </tr>\n    <tr>\n      <th>11</th>\n      <td>Provenance</td>\n      <td>1</td>\n    </tr>\n  </tbody>\n</table>\n</div>"
     },
     "metadata": {},
     "execution_count": 426
    }
   ],
   "source": [
    "final = pd.DataFrame(list(zip(a,b)), columns = ['RESOURCE_TYPE', 'COUNT'])\n",
    "final.sort_values(['COUNT'], ascending=False)"
   ]
  },
  {
   "cell_type": "code",
   "execution_count": 441,
   "metadata": {},
   "outputs": [
    {
     "output_type": "execute_result",
     "data": {
      "text/plain": [
       "'d13874ec-22ea-46ed-a55c-1fd75ef56a58'"
      ]
     },
     "metadata": {},
     "execution_count": 441
    }
   ],
   "source": [
    "id"
   ]
  },
  {
   "cell_type": "code",
   "execution_count": 444,
   "metadata": {},
   "outputs": [],
   "source": [
    " \n",
    "patient_id = 'd13874ec-22ea-46ed-a55c-1fd75ef56a58'\n",
    "\n",
    "def get_patient(id): \n",
    "\n",
    "\n",
    "\n",
    "\n",
    "    pat = s3.Object('1up-coding-challenge-patients', 'Patient.ndjson')\n",
    "    pat1 = pat.get()['Body'].read()\n",
    "    pat2 = ndjson.loads(pat1.decode('utf-8'))\n",
    "\n",
    "\n",
    "    fnl, lnl, idl = None, None, None\n",
    "\n",
    "    for name in pat2: \n",
    "\n",
    "        if name['id']==patient_id: \n",
    "\n",
    "            fnl = name['name'][0]['given'][0]\n",
    "            lnl = name['name'][0]['family']\n",
    "            idl = name['id']    \n",
    "    \n",
    "    return fnl, lnl, idl "
   ]
  },
  {
   "cell_type": "code",
   "execution_count": 445,
   "metadata": {},
   "outputs": [],
   "source": [
    "fn, ln, id = get_patient(patient_id)"
   ]
  },
  {
   "cell_type": "code",
   "execution_count": 446,
   "metadata": {},
   "outputs": [
    {
     "output_type": "execute_result",
     "data": {
      "text/plain": [
       "'Cleo27'"
      ]
     },
     "metadata": {},
     "execution_count": 446
    }
   ],
   "source": [
    "fn"
   ]
  },
  {
   "cell_type": "code",
   "execution_count": null,
   "metadata": {},
   "outputs": [],
   "source": []
  }
 ]
}
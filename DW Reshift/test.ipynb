{
 "metadata": {
  "language_info": {
   "codemirror_mode": {
    "name": "ipython",
    "version": 3
   },
   "file_extension": ".py",
   "mimetype": "text/x-python",
   "name": "python",
   "nbconvert_exporter": "python",
   "pygments_lexer": "ipython3",
   "version": "3.8.2-final"
  },
  "orig_nbformat": 2,
  "kernelspec": {
   "name": "Python 3.8.2 64-bit",
   "display_name": "Python 3.8.2 64-bit",
   "metadata": {
    "interpreter": {
     "hash": "916dbcbb3f70747c44a77c7bcd40155683ae19c65e1c03b4aa3499c5328201f1"
    }
   }
  }
 },
 "nbformat": 4,
 "nbformat_minor": 2,
 "cells": [
  {
   "cell_type": "code",
   "execution_count": 2,
   "metadata": {
    "tags": []
   },
   "outputs": [
    {
     "output_type": "stream",
     "name": "stdout",
     "text": [
      "\n"
     ]
    }
   ],
   "source": [
    "%run create_cluster.py"
   ]
  },
  {
   "source": [
    "config.cfg file successfuly read\n",
    "Dataframe for Cluster related properties\n",
    "                    Param             Value\n",
    "0        DWH_CLUSTER_TYPE        multi-node\n",
    "1           DWH_NUM_NODES                 4\n",
    "2           DWH_NODE_TYPE         dc2.large\n",
    "4                  DWH_DB               dev\n",
    "5             DWH_DB_USER           awsuser\n",
    "6         DWH_DB_PASSWORD          Yankees1\n",
    "7                DWH_PORT              5439\n",
    "<br>\n",
    "Creating a new IAM Role\n",
    "An error occurred (EntityAlreadyExists) when calling the CreateRole operation: Role with name myRedshiftRole already exists.\n",
    "IAM ROLE created\n",
    "Attaching Policy\n",
    "Policy successfully attached"
   ],
   "cell_type": "markdown",
   "metadata": {}
  },
  {
   "cell_type": "code",
   "execution_count": 1,
   "metadata": {
    "tags": []
   },
   "outputs": [
    {
     "output_type": "stream",
     "name": "stdout",
     "text": [
      "\n"
     ]
    }
   ],
   "source": [
    "%run get_cluster_details.py"
   ]
  },
  {
   "source": [
    "Dataframe for Cluster related properties\n",
    "                    Param             Value\n",
    "0        DWH_CLUSTER_TYPE        multi-node\n",
    "1           DWH_NUM_NODES                 4\n",
    "2           DWH_NODE_TYPE         dc2.large\n",
    "4                  DWH_DB               dev\n",
    "5             DWH_DB_USER           awsuser\n",
    "6         DWH_DB_PASSWORD          Yankees1\n",
    "7                DWH_PORT              5439\n",
    "Successfully updated End point to the configfile\n",
    "Connected"
   ],
   "cell_type": "markdown",
   "metadata": {}
  },
  {
   "cell_type": "code",
   "execution_count": 4,
   "metadata": {
    "tags": []
   },
   "outputs": [],
   "source": [
    "%run create_tables.py"
   ]
  },
  {
   "cell_type": "code",
   "execution_count": 5,
   "metadata": {},
   "outputs": [],
   "source": [
    "%run etl.py"
   ]
  },
  {
   "cell_type": "code",
   "execution_count": 2,
   "metadata": {
    "tags": []
   },
   "outputs": [
    {
     "output_type": "stream",
     "name": "stdout",
     "text": "\n    SELECT COUNT(*) FROM staging_events\n returns 8056 records\n\n    SELECT COUNT(*) FROM staging_songs\n returns 14896 records\n\n    SELECT COUNT(*) FROM sonplays\n returns 333 records\n\n    SELECT COUNT(*) FROM users\n returns 104 records\n\n    SELECT COUNT(*) FROM songs\n returns 14896 records\n\n    SELECT COUNT(*) FROM artists\n returns 10025 records\n\n    SELECT COUNT(*) FROM time\n returns 333 records\n"
    }
   ],
   "source": [
    "%run test.py"
   ]
  },
  {
   "cell_type": "code",
   "execution_count": 13,
   "metadata": {},
   "outputs": [],
   "source": [
    "%run resource_cleanup.py"
   ]
  },
  {
   "cell_type": "code",
   "execution_count": 10,
   "metadata": {},
   "outputs": [],
   "source": [
    "myClusterProps = redshift.describe_clusters(ClusterIdentifier=DWH_CLUSTER_IDENTIFIER)['Clusters'][0]"
   ]
  },
  {
   "cell_type": "code",
   "execution_count": null,
   "metadata": {},
   "outputs": [],
   "source": []
  }
 ]
}